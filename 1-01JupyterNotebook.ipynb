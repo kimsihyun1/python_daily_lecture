{
 "cells": [
  {
   "cell_type": "markdown",
   "id": "fbeb42a3-60d2-4de2-9c1d-c5ae59efe2a5",
   "metadata": {
    "slideshow": {
     "slide_type": "slide"
    }
   },
   "source": [
    "# Jupyter Notebook\n",
    "\n",
    "<img src=\"https://jupyter.org/assets/logos/rectanglelogo-greytext-orangebody-greymoons.svg\" width=\"200\" />\n",
    "\n",
    "> 수정 2022.05"
   ]
  },
  {
   "cell_type": "markdown",
   "id": "3e44635b-0c54-4c92-a9bb-6d84831925b7",
   "metadata": {
    "slideshow": {
     "slide_type": "slide"
    }
   },
   "source": [
    "브라우저 기반 인터랙티브 파이썬 환경\n",
    "* 인터랙티브 파이썬 코딩\n",
    "* 매직 명령어\n",
    "* 시스템 쉘\n",
    "* 마크다운 문법\n",
    "* 수학식 표현 (Latex)\n",
    "* 슬라이드, HTML, PDF\n",
    "* 대규모 병렬 컴퓨팅 (IPython.parallel)"
   ]
  },
  {
   "cell_type": "markdown",
   "id": "15ca0516-5834-48c9-ba83-756cafdc5163",
   "metadata": {},
   "source": [
    "### iPython 동작\n",
    "\n",
    "<img src='https://ipython.org/ipython-doc/3/_images/notebook_components.png' width='500'>\n",
    "- https://ipython.org/ipython-doc/3/development/how_ipython_works.html\n",
    "\n",
    "\n"
   ]
  },
  {
   "attachments": {
    "0027e823-85e1-4698-a8ac-08bfe7a604ea.png": {
     "image/png": "[encoded data removed]"
    }
   },
   "cell_type": "markdown",
   "id": "2a3b8fe1-5d44-409f-8a3b-3af8ba2924c5",
   "metadata": {},
   "source": [
    "### Kernel\n",
    "\n",
    "커널은 노트북 문서의 코드를 실행할 수 있는 엔진이다.\n",
    "\n",
    "- Kernel 이란: https://jupyter-notebook-beginner-guide.readthedocs.io/en/latest/what_is_jupyter.html#kernel\n",
    "- Major Kernels: https://docs.jupyter.org/en/latest/#kernels\n",
    "\n",
    "쥬피터 노트북 ( 혹은 랩) 에서 노트북 문서 실행시 선택할 수 있다.\n",
    "\n",
    "![image.png](attachment:0027e823-85e1-4698-a8ac-08bfe7a604ea.png)"
   ]
  },
  {
   "cell_type": "markdown",
   "id": "e0240615-2f32-4e43-aee7-a29315e08b59",
   "metadata": {},
   "source": [
    "#### XPython (Xesus Kernel)\n",
    "\n",
    "Jupyter Kernel 프로토콜 xesus 의 네이티브 구현한 노트북 커널이다.\n",
    " - https://github.com/jupyter-xeus/xeus-python"
   ]
  },
  {
   "cell_type": "markdown",
   "id": "6758c974-fb58-4adb-964d-cbd30e8c756f",
   "metadata": {
    "slideshow": {
     "slide_type": "slide"
    }
   },
   "source": [
    "# 특징\n",
    "\n",
    "* 웹기반의 대화적\n",
    "* 노트 정리하듯 정리, 손쉽게 공유\n",
    "* 개발, 문서화 환경\n",
    "* **매우 혁신적인 도구**\n",
    "* 웹 응용프로그램과 문서를 결합한 형태\n",
    "* 실행 코드, 설명 텍스트, 수학식, 미디어도 문서에 포함"
   ]
  },
  {
   "cell_type": "markdown",
   "id": "a9d961a8-b4c3-4c0c-8aab-9e91fc3183fb",
   "metadata": {
    "slideshow": {
     "slide_type": "slide"
    }
   },
   "source": [
    "# 코드 작성\n",
    "\n",
    "* 코드 편집, 자동구문강조 syntax hilighting, 자동 들여쓰기, 탭 완성\n",
    "* 실행결과를 브라우저내 inline 에 표시\n",
    "* HTML, LaTex 수학식, PNG, SVG 등 표현, matplotlib을 중간 삽입\n",
    "* Markdowm 편집하여 간단한 서식있는 문서를 작성\n",
    "* 수학적 표기법을 포함하고, 표현 Mathjax"
   ]
  },
  {
   "cell_type": "markdown",
   "id": "bd6ee474-92c1-4a43-ba12-fd2a0e5791d4",
   "metadata": {
    "slideshow": {
     "slide_type": "slide"
    }
   },
   "source": [
    "# 시작과 종료\n",
    "\n",
    "시작 (로컬 혹은 서버로 실행)\n",
    "\n",
    "쥬피터 노트북\n",
    "\n",
    "```bash\n",
    "# 서버로 실행\n",
    "$ jupyter notebook --ip=0.0.0.0 --port=8080\n",
    "```"
   ]
  },
  {
   "cell_type": "markdown",
   "id": "05b3aca5-2a79-45e1-ab0f-636cb39245d3",
   "metadata": {
    "slideshow": {
     "slide_type": "slide"
    }
   },
   "source": [
    "쥬피터 랩\n",
    "\n",
    "```bash\n",
    "$ jupyter-lab --no-browser --port=8080 DIR\n",
    "```\n",
    "\n",
    "\n",
    "종료는 Ctrl+C"
   ]
  },
  {
   "cell_type": "markdown",
   "id": "35a1025d-12c3-49f5-af86-a539220ea620",
   "metadata": {},
   "source": [
    "# 셀 이란\n",
    "\n",
    "코드 / 텍스트를 입력하는 기능\n",
    "\n",
    "1. 코드 셀\n",
    "2. 마크다운 셀"
   ]
  },
  {
   "cell_type": "markdown",
   "id": "94f08c2a-fb82-4b09-a43e-c3ae95bfbf81",
   "metadata": {
    "slideshow": {
     "slide_type": "slide"
    }
   },
   "source": [
    "# 명령모드와 편집모드\n",
    "\n",
    "Jupyter Notebook 키보드 입력에는 두 가지 모드가 있다. vi 에디터의 명령/편집 모드를 사용한다.\n",
    "* 명령모드(Command mode): 노트북의 셀을 편집 (파란색+회색 테두리) \n",
    "* 편집모드(Edit mode): 셀에 있는 텍스트나 코드를 편집 (녹색 테두리)\n",
    "\n",
    "\n",
    "모드 전환\n",
    "* Esc키를 누르면 명령모드로, Enter를 누르면 편집모드로 상호전환\n",
    "* 명령 모드에서 j,k 키로 아래/위로 이동 (vi 에디터)\n",
    "* 도움말 표시: 명령 모드에서 h 키"
   ]
  },
  {
   "cell_type": "markdown",
   "id": "a5ca95f1-2411-413a-93c3-85fde66d3c2d",
   "metadata": {
    "slideshow": {
     "slide_type": "slide"
    }
   },
   "source": [
    "# 실행과 저장(명령모드, 편집모드 공통)\n",
    "자주 사용되는 키보드를 확인하고 익혀두자\n",
    "\n",
    "* Ctrl-Enter 현재 셀 실행 \n",
    "* Shift-Enter 셀 실행 + 아래로 이동 \n",
    "* Ctrl-s: 노트북 저장 "
   ]
  },
  {
   "cell_type": "markdown",
   "id": "47a8c273-2c97-4440-b0a7-4a5124270cc6",
   "metadata": {
    "slideshow": {
     "slide_type": "slide"
    }
   },
   "source": [
    "# 명령모드(Esc를 눌러 활성화)\n",
    "자주 사용되는 키보드를 확인하고 익혀두자\n",
    "\n",
    "* Enter 편집 모드 \n",
    "* y: 코드로 전환 \n",
    "* m: 마크다운으로 전환 \n",
    "* ↑, k : 위로, \n",
    "* ↓, j : 아래로 \n",
    "* Ctrl-k: 셀을 위로 이동 \n",
    "* Ctrl-j: 셀을 아래로 이동 \n",
    "* a: 위에 셀 추가 (b는 아래에 셀 추가)\n",
    "* c: 셀 복사 \n",
    "* v: 아래에 셀 붙여넣기 \n",
    "* Shift-m: 셀 아래 병합 \n",
    "* h: 키보드 바로가기 도움말 "
   ]
  },
  {
   "cell_type": "code",
   "execution_count": null,
   "id": "49118552-08d0-4aff-8e0f-dedacaa2eb82",
   "metadata": {},
   "outputs": [],
   "source": [
    "\"hello\""
   ]
  },
  {
   "cell_type": "code",
   "execution_count": null,
   "id": "13544840-398a-4796-a5f6-3f4a7360aab7",
   "metadata": {},
   "outputs": [],
   "source": [
    "kkk"
   ]
  },
  {
   "cell_type": "code",
   "execution_count": null,
   "id": "a62e1201-5a61-4974-b7ad-ec8e9bcc10ba",
   "metadata": {},
   "outputs": [],
   "source": []
  },
  {
   "cell_type": "code",
   "execution_count": null,
   "id": "b660525b-0d8f-4c50-ace1-0a2e014902cf",
   "metadata": {},
   "outputs": [],
   "source": [
    "\"hello\""
   ]
  },
  {
   "cell_type": "code",
   "execution_count": null,
   "id": "c70d2b1d-1543-4a1a-b8f2-80209e103c22",
   "metadata": {},
   "outputs": [],
   "source": []
  },
  {
   "cell_type": "code",
   "execution_count": null,
   "id": "c705080a-1561-48f6-8565-2f860a69452c",
   "metadata": {},
   "outputs": [],
   "source": []
  },
  {
   "cell_type": "markdown",
   "id": "6b2e3429-0358-4959-8648-db95df48b9ad",
   "metadata": {
    "slideshow": {
     "slide_type": "slide"
    }
   },
   "source": [
    "# 편집모드(Enter를 눌러 활성화)\n",
    "자주 사용되는 키보드를 확인하고 익혀두자\n",
    "\n",
    "* Esc: 명령모드 \n",
    "* Ctrl-Shift--: 셀 분할 \n",
    "* Ctrl-Left: 단어 단위 왼쪽으로 \n",
    "* Ctrl-Right: 단어 단위 오른쪽으로 "
   ]
  },
  {
   "cell_type": "markdown",
   "id": "c4f24356-06ef-4998-bdac-035638c234f9",
   "metadata": {},
   "source": [
    "## **2 Cell 편집하기**\n",
    "\n",
    "### **01 셀 내부 선택 / 셀 외부 선택**"
   ]
  },
  {
   "cell_type": "code",
   "execution_count": 7,
   "id": "a4a8c0fd-7b6c-4fe8-9b94-c938912b87df",
   "metadata": {},
   "outputs": [],
   "source": [
    "# Enter : 셀 내부로 들어가기"
   ]
  },
  {
   "cell_type": "code",
   "execution_count": 8,
   "id": "fd9ba73e-c8a2-4cb8-81f9-26762f14659c",
   "metadata": {},
   "outputs": [],
   "source": [
    "# ESC : 셀 외부로 빠져나가기"
   ]
  },
  {
   "cell_type": "markdown",
   "id": "ae17bea9-08ab-41a8-8f44-72851fd2a0ed",
   "metadata": {},
   "source": [
    "### **02 셀 분리**\n",
    "Ctrl + Shift + '-'"
   ]
  },
  {
   "cell_type": "code",
   "execution_count": null,
   "id": "a46588a8-1d68-4e59-8476-114f29b3f319",
   "metadata": {},
   "outputs": [],
   "source": [
    "# 셀 내부에서 작업하다가\n",
    "\n",
    "# 일정 부분에서\n",
    "\n",
    "# Ctrl + Shift + '-'"
   ]
  },
  {
   "cell_type": "markdown",
   "id": "d407ebb2-a2c0-405a-8fe5-521d08cf8252",
   "metadata": {
    "jp-MarkdownHeadingCollapsed": true,
    "tags": []
   },
   "source": [
    "### **02 셀 병합**\n",
    "Shift + 'm'"
   ]
  },
  {
   "cell_type": "code",
   "execution_count": 10,
   "id": "ddacb2ef-3fb2-41b1-9ab9-f4e06d86ce1c",
   "metadata": {
    "tags": []
   },
   "outputs": [],
   "source": [
    "# 셀 아웃한 뒤 \n",
    "# Shift + 'm' \n",
    "# 실수로 'm' 을 누르면 셀의 속성이 Mark Down 으로 바뀐다"
   ]
  },
  {
   "cell_type": "markdown",
   "id": "6f0fe668-7ffd-4af0-a1a7-7c278ae60349",
   "metadata": {},
   "source": [
    "## **3 Cell 속성 바꾸기**\n",
    "Code / Mark Down"
   ]
  },
  {
   "cell_type": "code",
   "execution_count": 11,
   "id": "eef1c362-574f-4252-a625-9bfcc510c19c",
   "metadata": {},
   "outputs": [],
   "source": [
    "# ESC 로 셀 외부로 빠진 뒤\n",
    "# 'Y' : Code 속성으로 변경\n",
    "# 'M' : MarkDown 속성으로 변경"
   ]
  },
  {
   "cell_type": "markdown",
   "id": "b69a3851-546e-4d3a-8e3f-95a9bf4c8020",
   "metadata": {},
   "source": [
    "\n",
    "## **4 Cell 객체 편집하기**\n",
    "Code / Mark Down"
   ]
  },
  {
   "cell_type": "code",
   "execution_count": 12,
   "id": "d0bc3a46-fdc5-4936-aeec-3b30b48913f5",
   "metadata": {},
   "outputs": [],
   "source": [
    "# ESC\n",
    "# \"D\" \"D\"  Delete Cell"
   ]
  },
  {
   "cell_type": "code",
   "execution_count": 13,
   "id": "1a19b4af-3417-4b02-a0aa-7a04f3e8ad86",
   "metadata": {
    "tags": []
   },
   "outputs": [],
   "source": [
    "# ESC\n",
    "# \"B\" 빈쎌 삽입하기"
   ]
  },
  {
   "cell_type": "markdown",
   "id": "eef8ec3e-24c5-4f20-9f88-bf0f8c61dba1",
   "metadata": {},
   "source": [
    "<br><br>\n",
    "## **5 ipython 단축키**\n",
    "http://bigbigdata.tistory.com/65"
   ]
  },
  {
   "cell_type": "markdown",
   "id": "5cc129e2-9d19-419f-8e10-4a55c120e7c7",
   "metadata": {},
   "source": [
    "# Object Information"
   ]
  },
  {
   "cell_type": "markdown",
   "id": "4ad6b89c-c55d-4aae-a229-ed9f8bc44624",
   "metadata": {},
   "source": [
    "### **01. 객체 정보 확인** <small> shift + TAB </small>\n",
    "변수를 키인하고 **shift + TAB** 누르면 내부 특성이 조회됨"
   ]
  },
  {
   "cell_type": "code",
   "execution_count": 2,
   "id": "41ae7a49-09fb-4d36-ae34-982323f01e4f",
   "metadata": {},
   "outputs": [],
   "source": [
    "a = 10"
   ]
  },
  {
   "cell_type": "code",
   "execution_count": 3,
   "id": "aa885729-8565-47cd-b8ba-dbb341884337",
   "metadata": {
    "scrolled": true,
    "tags": []
   },
   "outputs": [
    {
     "name": "stdout",
     "output_type": "stream",
     "text": [
      "Help on int object:\n",
      "\n",
      "class int(object)\n",
      " |  int([x]) -> integer\n",
      " |  int(x, base=10) -> integer\n",
      " |  \n",
      " |  Convert a number or string to an integer, or return 0 if no arguments\n",
      " |  are given.  If x is a number, return x.__int__().  For floating point\n",
      " |  numbers, this truncates towards zero.\n",
      " |  \n",
      " |  If x is not a number or if base is given, then x must be a string,\n",
      " |  bytes, or bytearray instance representing an integer literal in the\n",
      " |  given base.  The literal can be preceded by '+' or '-' and be surrounded\n",
      " |  by whitespace.  The base defaults to 10.  Valid bases are 0 and 2-36.\n",
      " |  Base 0 means to interpret the base from the string as an integer literal.\n",
      " |  >>> int('0b100', base=0)\n",
      " |  4\n",
      " |  \n",
      " |  Built-in subclasses:\n",
      " |      bool\n",
      " |  \n",
      " |  Methods defined here:\n",
      " |  \n",
      " |  __abs__(self, /)\n",
      " |      abs(self)\n",
      " |  \n",
      " |  __add__(self, value, /)\n",
      " |      Return self+value.\n",
      " |  \n",
      " |  __and__(self, value, /)\n",
      " |      Return self&value.\n",
      " |  \n",
      " |  __bool__(self, /)\n",
      " |      True if self else False\n",
      " |  \n",
      " |  __ceil__(...)\n",
      " |      Ceiling of an Integral returns itself.\n",
      " |  \n",
      " |  __divmod__(self, value, /)\n",
      " |      Return divmod(self, value).\n",
      " |  \n",
      " |  __eq__(self, value, /)\n",
      " |      Return self==value.\n",
      " |  \n",
      " |  __float__(self, /)\n",
      " |      float(self)\n",
      " |  \n",
      " |  __floor__(...)\n",
      " |      Flooring an Integral returns itself.\n",
      " |  \n",
      " |  __floordiv__(self, value, /)\n",
      " |      Return self//value.\n",
      " |  \n",
      " |  __format__(self, format_spec, /)\n",
      " |      Default object formatter.\n",
      " |  \n",
      " |  __ge__(self, value, /)\n",
      " |      Return self>=value.\n",
      " |  \n",
      " |  __getattribute__(self, name, /)\n",
      " |      Return getattr(self, name).\n",
      " |  \n",
      " |  __getnewargs__(self, /)\n",
      " |  \n",
      " |  __gt__(self, value, /)\n",
      " |      Return self>value.\n",
      " |  \n",
      " |  __hash__(self, /)\n",
      " |      Return hash(self).\n",
      " |  \n",
      " |  __index__(self, /)\n",
      " |      Return self converted to an integer, if self is suitable for use as an index into a list.\n",
      " |  \n",
      " |  __int__(self, /)\n",
      " |      int(self)\n",
      " |  \n",
      " |  __invert__(self, /)\n",
      " |      ~self\n",
      " |  \n",
      " |  __le__(self, value, /)\n",
      " |      Return self<=value.\n",
      " |  \n",
      " |  __lshift__(self, value, /)\n",
      " |      Return self<<value.\n",
      " |  \n",
      " |  __lt__(self, value, /)\n",
      " |      Return self<value.\n",
      " |  \n",
      " |  __mod__(self, value, /)\n",
      " |      Return self%value.\n",
      " |  \n",
      " |  __mul__(self, value, /)\n",
      " |      Return self*value.\n",
      " |  \n",
      " |  __ne__(self, value, /)\n",
      " |      Return self!=value.\n",
      " |  \n",
      " |  __neg__(self, /)\n",
      " |      -self\n",
      " |  \n",
      " |  __or__(self, value, /)\n",
      " |      Return self|value.\n",
      " |  \n",
      " |  __pos__(self, /)\n",
      " |      +self\n",
      " |  \n",
      " |  __pow__(self, value, mod=None, /)\n",
      " |      Return pow(self, value, mod).\n",
      " |  \n",
      " |  __radd__(self, value, /)\n",
      " |      Return value+self.\n",
      " |  \n",
      " |  __rand__(self, value, /)\n",
      " |      Return value&self.\n",
      " |  \n",
      " |  __rdivmod__(self, value, /)\n",
      " |      Return divmod(value, self).\n",
      " |  \n",
      " |  __repr__(self, /)\n",
      " |      Return repr(self).\n",
      " |  \n",
      " |  __rfloordiv__(self, value, /)\n",
      " |      Return value//self.\n",
      " |  \n",
      " |  __rlshift__(self, value, /)\n",
      " |      Return value<<self.\n",
      " |  \n",
      " |  __rmod__(self, value, /)\n",
      " |      Return value%self.\n",
      " |  \n",
      " |  __rmul__(self, value, /)\n",
      " |      Return value*self.\n",
      " |  \n",
      " |  __ror__(self, value, /)\n",
      " |      Return value|self.\n",
      " |  \n",
      " |  __round__(...)\n",
      " |      Rounding an Integral returns itself.\n",
      " |      \n",
      " |      Rounding with an ndigits argument also returns an integer.\n",
      " |  \n",
      " |  __rpow__(self, value, mod=None, /)\n",
      " |      Return pow(value, self, mod).\n",
      " |  \n",
      " |  __rrshift__(self, value, /)\n",
      " |      Return value>>self.\n",
      " |  \n",
      " |  __rshift__(self, value, /)\n",
      " |      Return self>>value.\n",
      " |  \n",
      " |  __rsub__(self, value, /)\n",
      " |      Return value-self.\n",
      " |  \n",
      " |  __rtruediv__(self, value, /)\n",
      " |      Return value/self.\n",
      " |  \n",
      " |  __rxor__(self, value, /)\n",
      " |      Return value^self.\n",
      " |  \n",
      " |  __sizeof__(self, /)\n",
      " |      Returns size in memory, in bytes.\n",
      " |  \n",
      " |  __sub__(self, value, /)\n",
      " |      Return self-value.\n",
      " |  \n",
      " |  __truediv__(self, value, /)\n",
      " |      Return self/value.\n",
      " |  \n",
      " |  __trunc__(...)\n",
      " |      Truncating an Integral returns itself.\n",
      " |  \n",
      " |  __xor__(self, value, /)\n",
      " |      Return self^value.\n",
      " |  \n",
      " |  as_integer_ratio(self, /)\n",
      " |      Return integer ratio.\n",
      " |      \n",
      " |      Return a pair of integers, whose ratio is exactly equal to the original int\n",
      " |      and with a positive denominator.\n",
      " |      \n",
      " |      >>> (10).as_integer_ratio()\n",
      " |      (10, 1)\n",
      " |      >>> (-10).as_integer_ratio()\n",
      " |      (-10, 1)\n",
      " |      >>> (0).as_integer_ratio()\n",
      " |      (0, 1)\n",
      " |  \n",
      " |  bit_count(self, /)\n",
      " |      Number of ones in the binary representation of the absolute value of self.\n",
      " |      \n",
      " |      Also known as the population count.\n",
      " |      \n",
      " |      >>> bin(13)\n",
      " |      '0b1101'\n",
      " |      >>> (13).bit_count()\n",
      " |      3\n",
      " |  \n",
      " |  bit_length(self, /)\n",
      " |      Number of bits necessary to represent self in binary.\n",
      " |      \n",
      " |      >>> bin(37)\n",
      " |      '0b100101'\n",
      " |      >>> (37).bit_length()\n",
      " |      6\n",
      " |  \n",
      " |  conjugate(...)\n",
      " |      Returns self, the complex conjugate of any int.\n",
      " |  \n",
      " |  to_bytes(self, /, length, byteorder, *, signed=False)\n",
      " |      Return an array of bytes representing an integer.\n",
      " |      \n",
      " |      length\n",
      " |        Length of bytes object to use.  An OverflowError is raised if the\n",
      " |        integer is not representable with the given number of bytes.\n",
      " |      byteorder\n",
      " |        The byte order used to represent the integer.  If byteorder is 'big',\n",
      " |        the most significant byte is at the beginning of the byte array.  If\n",
      " |        byteorder is 'little', the most significant byte is at the end of the\n",
      " |        byte array.  To request the native byte order of the host system, use\n",
      " |        `sys.byteorder' as the byte order value.\n",
      " |      signed\n",
      " |        Determines whether two's complement is used to represent the integer.\n",
      " |        If signed is False and a negative integer is given, an OverflowError\n",
      " |        is raised.\n",
      " |  \n",
      " |  ----------------------------------------------------------------------\n",
      " |  Class methods defined here:\n",
      " |  \n",
      " |  from_bytes(bytes, byteorder, *, signed=False) from builtins.type\n",
      " |      Return the integer represented by the given array of bytes.\n",
      " |      \n",
      " |      bytes\n",
      " |        Holds the array of bytes to convert.  The argument must either\n",
      " |        support the buffer protocol or be an iterable object producing bytes.\n",
      " |        Bytes and bytearray are examples of built-in objects that support the\n",
      " |        buffer protocol.\n",
      " |      byteorder\n",
      " |        The byte order used to represent the integer.  If byteorder is 'big',\n",
      " |        the most significant byte is at the beginning of the byte array.  If\n",
      " |        byteorder is 'little', the most significant byte is at the end of the\n",
      " |        byte array.  To request the native byte order of the host system, use\n",
      " |        `sys.byteorder' as the byte order value.\n",
      " |      signed\n",
      " |        Indicates whether two's complement is used to represent the integer.\n",
      " |  \n",
      " |  ----------------------------------------------------------------------\n",
      " |  Static methods defined here:\n",
      " |  \n",
      " |  __new__(*args, **kwargs) from builtins.type\n",
      " |      Create and return a new object.  See help(type) for accurate signature.\n",
      " |  \n",
      " |  ----------------------------------------------------------------------\n",
      " |  Data descriptors defined here:\n",
      " |  \n",
      " |  denominator\n",
      " |      the denominator of a rational number in lowest terms\n",
      " |  \n",
      " |  imag\n",
      " |      the imaginary part of a complex number\n",
      " |  \n",
      " |  numerator\n",
      " |      the numerator of a rational number in lowest terms\n",
      " |  \n",
      " |  real\n",
      " |      the real part of a complex number\n",
      "\n"
     ]
    }
   ],
   "source": [
    "help(a)"
   ]
  },
  {
   "cell_type": "markdown",
   "id": "8e818d0c-9c90-4d45-86f4-fd0920f219da",
   "metadata": {},
   "source": [
    "### **02 함수정보 확인** <small> shift + TAB </small>\n",
    "함수를 키인하고 **shift + TAB** 누르면 내부 특성이 조회됨"
   ]
  },
  {
   "cell_type": "code",
   "execution_count": 13,
   "id": "69e8c885-326a-40df-b94e-2241958b1af4",
   "metadata": {},
   "outputs": [],
   "source": [
    "def sum(a,b):\n",
    "    return a + b"
   ]
  },
  {
   "cell_type": "code",
   "execution_count": 14,
   "id": "d9b30f89-311c-42d3-8cea-32b937ab8e3d",
   "metadata": {},
   "outputs": [
    {
     "data": {
      "text/plain": [
       "5"
      ]
     },
     "execution_count": 14,
     "metadata": {},
     "output_type": "execute_result"
    }
   ],
   "source": [
    "sum(1, 4)"
   ]
  },
  {
   "cell_type": "markdown",
   "id": "ce6d6e6c-0c9a-4bf1-a1f4-6770636cd444",
   "metadata": {},
   "source": [
    "docstrings 확인"
   ]
  },
  {
   "cell_type": "code",
   "execution_count": 15,
   "id": "c461127b-79e1-4c70-970f-a8e21f9ef4e8",
   "metadata": {},
   "outputs": [],
   "source": [
    "def sum(a,b):\n",
    "    \"\"\"sum()는 두 수를 더한 결과를 반환한다.\n",
    "    \"\"\"\n",
    "    return a + b"
   ]
  },
  {
   "cell_type": "code",
   "execution_count": null,
   "id": "e5767bf7-4fac-4813-bd77-70aa23357f42",
   "metadata": {},
   "outputs": [],
   "source": [
    "sum"
   ]
  },
  {
   "cell_type": "markdown",
   "id": "d477553d-fd98-4436-9ea3-0f74ee0908ce",
   "metadata": {},
   "source": [
    "### **03 객체/ 함수정보 확인** <small> shift + TAB </small>\n",
    "**?** by Codes"
   ]
  },
  {
   "cell_type": "code",
   "execution_count": 4,
   "id": "2c6019ea-63e1-4127-8e54-09e94389d683",
   "metadata": {},
   "outputs": [
    {
     "data": {
      "text/plain": [
       "\u001b[1;31mType:\u001b[0m        int\n",
       "\u001b[1;31mString form:\u001b[0m 10\n",
       "\u001b[1;31mDocstring:\u001b[0m  \n",
       "int([x]) -> integer\n",
       "int(x, base=10) -> integer\n",
       "\n",
       "Convert a number or string to an integer, or return 0 if no arguments\n",
       "are given.  If x is a number, return x.__int__().  For floating point\n",
       "numbers, this truncates towards zero.\n",
       "\n",
       "If x is not a number or if base is given, then x must be a string,\n",
       "bytes, or bytearray instance representing an integer literal in the\n",
       "given base.  The literal can be preceded by '+' or '-' and be surrounded\n",
       "by whitespace.  The base defaults to 10.  Valid bases are 0 and 2-36.\n",
       "Base 0 means to interpret the base from the string as an integer literal.\n",
       ">>> int('0b100', base=0)\n",
       "4"
      ]
     },
     "metadata": {},
     "output_type": "display_data"
    }
   ],
   "source": [
    "a?"
   ]
  },
  {
   "cell_type": "code",
   "execution_count": 17,
   "id": "58a76eb9-4e54-44b6-bd69-0b54289c78be",
   "metadata": {},
   "outputs": [
    {
     "data": {
      "text/plain": [
       "\u001b[1;31mSignature:\u001b[0m \u001b[0msum\u001b[0m\u001b[1;33m(\u001b[0m\u001b[0ma\u001b[0m\u001b[1;33m,\u001b[0m \u001b[0mb\u001b[0m\u001b[1;33m)\u001b[0m\u001b[1;33m\u001b[0m\u001b[1;33m\u001b[0m\u001b[0m\n",
       "\u001b[1;31mDocstring:\u001b[0m\n",
       "sum()는 두 수를 더한 결과를 반환한다.\n",
       "    \n",
       "\u001b[1;31mFile:\u001b[0m      c:\\users\\user\\appdata\\local\\temp\\ipykernel_5524\\2814145070.py\n",
       "\u001b[1;31mType:\u001b[0m      function"
      ]
     },
     "metadata": {},
     "output_type": "display_data"
    }
   ],
   "source": [
    "sum?"
   ]
  },
  {
   "cell_type": "code",
   "execution_count": 6,
   "id": "d4f2f0e2-ab90-493d-a7f4-e113e88b2569",
   "metadata": {},
   "outputs": [],
   "source": [
    "# sum()?"
   ]
  },
  {
   "cell_type": "code",
   "execution_count": 5,
   "id": "77b7d38d-db3a-4f46-8bbc-4b8c88edca1a",
   "metadata": {},
   "outputs": [],
   "source": [
    "import numpy as np"
   ]
  },
  {
   "cell_type": "code",
   "execution_count": 6,
   "id": "2b318b04-fd0d-4ae7-a835-5ed2f444be72",
   "metadata": {},
   "outputs": [
    {
     "data": {
      "text/plain": [
       "<ufunc 'exp'>"
      ]
     },
     "execution_count": 6,
     "metadata": {},
     "output_type": "execute_result"
    }
   ],
   "source": [
    "np.exp"
   ]
  },
  {
   "cell_type": "code",
   "execution_count": 7,
   "id": "1d9aeb67-7300-4290-9c8a-c83e6622bf60",
   "metadata": {
    "scrolled": true,
    "tags": []
   },
   "outputs": [
    {
     "name": "stdout",
     "output_type": "stream",
     "text": [
      "Help on ufunc:\n",
      "\n",
      "exp = <ufunc 'exp'>\n",
      "    exp(x, /, out=None, *, where=True, casting='same_kind', order='K', dtype=None, subok=True[, signature, extobj])\n",
      "    \n",
      "    Calculate the exponential of all elements in the input array.\n",
      "    \n",
      "    Parameters\n",
      "    ----------\n",
      "    x : array_like\n",
      "        Input values.\n",
      "    out : ndarray, None, or tuple of ndarray and None, optional\n",
      "        A location into which the result is stored. If provided, it must have\n",
      "        a shape that the inputs broadcast to. If not provided or None,\n",
      "        a freshly-allocated array is returned. A tuple (possible only as a\n",
      "        keyword argument) must have length equal to the number of outputs.\n",
      "    where : array_like, optional\n",
      "        This condition is broadcast over the input. At locations where the\n",
      "        condition is True, the `out` array will be set to the ufunc result.\n",
      "        Elsewhere, the `out` array will retain its original value.\n",
      "        Note that if an uninitialized `out` array is created via the default\n",
      "        ``out=None``, locations within it where the condition is False will\n",
      "        remain uninitialized.\n",
      "    **kwargs\n",
      "        For other keyword-only arguments, see the\n",
      "        :ref:`ufunc docs <ufuncs.kwargs>`.\n",
      "    \n",
      "    Returns\n",
      "    -------\n",
      "    out : ndarray or scalar\n",
      "        Output array, element-wise exponential of `x`.\n",
      "        This is a scalar if `x` is a scalar.\n",
      "    \n",
      "    See Also\n",
      "    --------\n",
      "    expm1 : Calculate ``exp(x) - 1`` for all elements in the array.\n",
      "    exp2  : Calculate ``2**x`` for all elements in the array.\n",
      "    \n",
      "    Notes\n",
      "    -----\n",
      "    The irrational number ``e`` is also known as Euler's number.  It is\n",
      "    approximately 2.718281, and is the base of the natural logarithm,\n",
      "    ``ln`` (this means that, if :math:`x = \\ln y = \\log_e y`,\n",
      "    then :math:`e^x = y`. For real input, ``exp(x)`` is always positive.\n",
      "    \n",
      "    For complex arguments, ``x = a + ib``, we can write\n",
      "    :math:`e^x = e^a e^{ib}`.  The first term, :math:`e^a`, is already\n",
      "    known (it is the real argument, described above).  The second term,\n",
      "    :math:`e^{ib}`, is :math:`\\cos b + i \\sin b`, a function with\n",
      "    magnitude 1 and a periodic phase.\n",
      "    \n",
      "    References\n",
      "    ----------\n",
      "    .. [1] Wikipedia, \"Exponential function\",\n",
      "           https://en.wikipedia.org/wiki/Exponential_function\n",
      "    .. [2] M. Abramovitz and I. A. Stegun, \"Handbook of Mathematical Functions\n",
      "           with Formulas, Graphs, and Mathematical Tables,\" Dover, 1964, p. 69,\n",
      "           https://personal.math.ubc.ca/~cbm/aands/page_69.htm\n",
      "    \n",
      "    Examples\n",
      "    --------\n",
      "    Plot the magnitude and phase of ``exp(x)`` in the complex plane:\n",
      "    \n",
      "    >>> import matplotlib.pyplot as plt\n",
      "    \n",
      "    >>> x = np.linspace(-2*np.pi, 2*np.pi, 100)\n",
      "    >>> xx = x + 1j * x[:, np.newaxis] # a + ib over complex plane\n",
      "    >>> out = np.exp(xx)\n",
      "    \n",
      "    >>> plt.subplot(121)\n",
      "    >>> plt.imshow(np.abs(out),\n",
      "    ...            extent=[-2*np.pi, 2*np.pi, -2*np.pi, 2*np.pi], cmap='gray')\n",
      "    >>> plt.title('Magnitude of exp(x)')\n",
      "    \n",
      "    >>> plt.subplot(122)\n",
      "    >>> plt.imshow(np.angle(out),\n",
      "    ...            extent=[-2*np.pi, 2*np.pi, -2*np.pi, 2*np.pi], cmap='hsv')\n",
      "    >>> plt.title('Phase (angle) of exp(x)')\n",
      "    >>> plt.show()\n",
      "\n"
     ]
    }
   ],
   "source": [
    "help(np.exp)   # docstrings"
   ]
  },
  {
   "cell_type": "markdown",
   "id": "25750862-8e8f-4a16-944a-d6112a3602b1",
   "metadata": {},
   "source": [
    "### 노트북 도움말 `?` 이용"
   ]
  },
  {
   "cell_type": "code",
   "execution_count": 18,
   "id": "9642506b-e53a-4872-aa56-da980a9111a9",
   "metadata": {},
   "outputs": [
    {
     "data": {
      "text/plain": [
       "\u001b[1;31mType:\u001b[0m        int\n",
       "\u001b[1;31mString form:\u001b[0m 10\n",
       "\u001b[1;31mDocstring:\u001b[0m  \n",
       "int([x]) -> integer\n",
       "int(x, base=10) -> integer\n",
       "\n",
       "Convert a number or string to an integer, or return 0 if no arguments\n",
       "are given.  If x is a number, return x.__int__().  For floating point\n",
       "numbers, this truncates towards zero.\n",
       "\n",
       "If x is not a number or if base is given, then x must be a string,\n",
       "bytes, or bytearray instance representing an integer literal in the\n",
       "given base.  The literal can be preceded by '+' or '-' and be surrounded\n",
       "by whitespace.  The base defaults to 10.  Valid bases are 0 and 2-36.\n",
       "Base 0 means to interpret the base from the string as an integer literal.\n",
       ">>> int('0b100', base=0)\n",
       "4"
      ]
     },
     "metadata": {},
     "output_type": "display_data"
    }
   ],
   "source": [
    "a??"
   ]
  },
  {
   "cell_type": "code",
   "execution_count": 19,
   "id": "1d02528e-c90f-4825-94b0-1c97bc074f18",
   "metadata": {},
   "outputs": [
    {
     "data": {
      "text/plain": [
       "\u001b[1;31mSignature:\u001b[0m \u001b[0msum\u001b[0m\u001b[1;33m(\u001b[0m\u001b[0ma\u001b[0m\u001b[1;33m,\u001b[0m \u001b[0mb\u001b[0m\u001b[1;33m)\u001b[0m\u001b[1;33m\u001b[0m\u001b[1;33m\u001b[0m\u001b[0m\n",
       "\u001b[1;31mSource:\u001b[0m   \n",
       "\u001b[1;32mdef\u001b[0m \u001b[0msum\u001b[0m\u001b[1;33m(\u001b[0m\u001b[0ma\u001b[0m\u001b[1;33m,\u001b[0m\u001b[0mb\u001b[0m\u001b[1;33m)\u001b[0m\u001b[1;33m:\u001b[0m\u001b[1;33m\n",
       "\u001b[0m    \u001b[1;34m\"\"\"sum()는 두 수를 더한 결과를 반환한다.\n",
       "    \"\"\"\u001b[0m\u001b[1;33m\n",
       "\u001b[0m    \u001b[1;32mreturn\u001b[0m \u001b[0ma\u001b[0m \u001b[1;33m+\u001b[0m \u001b[0mb\u001b[0m\u001b[1;33m\u001b[0m\u001b[1;33m\u001b[0m\u001b[0m\n",
       "\u001b[1;31mFile:\u001b[0m      c:\\users\\user\\appdata\\local\\temp\\ipykernel_5524\\2814145070.py\n",
       "\u001b[1;31mType:\u001b[0m      function"
      ]
     },
     "metadata": {},
     "output_type": "display_data"
    }
   ],
   "source": [
    "sum??"
   ]
  },
  {
   "cell_type": "markdown",
   "id": "242e8619-9e49-4d7a-af88-34a87e6e182b",
   "metadata": {},
   "source": [
    "### 노트북 도움말 : **Shift + TAB**\n"
   ]
  },
  {
   "cell_type": "code",
   "execution_count": null,
   "id": "6a096922-3704-4827-a8d2-c27a2dd50fff",
   "metadata": {},
   "outputs": [],
   "source": [
    "add    # Shift+tab"
   ]
  },
  {
   "cell_type": "markdown",
   "id": "23a25057-a626-4c41-9d44-f01b06826da0",
   "metadata": {},
   "source": [
    "# 매직커맨드"
   ]
  },
  {
   "cell_type": "code",
   "execution_count": 8,
   "id": "62d7e7c3-7663-4b6d-a14b-ee7da3ef0022",
   "metadata": {
    "tags": []
   },
   "outputs": [
    {
     "data": {
      "application/json": {
       "cell": {
        "!": "OSMagics",
        "HTML": "Other",
        "SVG": "Other",
        "bash": "Other",
        "capture": "ExecutionMagics",
        "cmd": "Other",
        "debug": "ExecutionMagics",
        "file": "Other",
        "html": "DisplayMagics",
        "javascript": "DisplayMagics",
        "js": "DisplayMagics",
        "latex": "DisplayMagics",
        "markdown": "DisplayMagics",
        "perl": "Other",
        "prun": "ExecutionMagics",
        "pypy": "Other",
        "python": "Other",
        "python2": "Other",
        "python3": "Other",
        "ruby": "Other",
        "script": "ScriptMagics",
        "sh": "Other",
        "svg": "DisplayMagics",
        "sx": "OSMagics",
        "system": "OSMagics",
        "time": "ExecutionMagics",
        "timeit": "ExecutionMagics",
        "writefile": "OSMagics"
       },
       "line": {
        "alias": "OSMagics",
        "alias_magic": "BasicMagics",
        "autoawait": "AsyncMagics",
        "autocall": "AutoMagics",
        "automagic": "AutoMagics",
        "autosave": "KernelMagics",
        "bookmark": "OSMagics",
        "cd": "OSMagics",
        "clear": "KernelMagics",
        "cls": "KernelMagics",
        "colors": "BasicMagics",
        "conda": "PackagingMagics",
        "config": "ConfigMagics",
        "connect_info": "KernelMagics",
        "copy": "Other",
        "ddir": "Other",
        "debug": "ExecutionMagics",
        "dhist": "OSMagics",
        "dirs": "OSMagics",
        "doctest_mode": "BasicMagics",
        "echo": "Other",
        "ed": "Other",
        "edit": "KernelMagics",
        "env": "OSMagics",
        "gui": "BasicMagics",
        "hist": "Other",
        "history": "HistoryMagics",
        "killbgscripts": "ScriptMagics",
        "ldir": "Other",
        "less": "KernelMagics",
        "load": "CodeMagics",
        "load_ext": "ExtensionMagics",
        "loadpy": "CodeMagics",
        "logoff": "LoggingMagics",
        "logon": "LoggingMagics",
        "logstart": "LoggingMagics",
        "logstate": "LoggingMagics",
        "logstop": "LoggingMagics",
        "ls": "Other",
        "lsmagic": "BasicMagics",
        "macro": "ExecutionMagics",
        "magic": "BasicMagics",
        "matplotlib": "PylabMagics",
        "mkdir": "Other",
        "more": "KernelMagics",
        "notebook": "BasicMagics",
        "page": "BasicMagics",
        "pastebin": "CodeMagics",
        "pdb": "ExecutionMagics",
        "pdef": "NamespaceMagics",
        "pdoc": "NamespaceMagics",
        "pfile": "NamespaceMagics",
        "pinfo": "NamespaceMagics",
        "pinfo2": "NamespaceMagics",
        "pip": "PackagingMagics",
        "popd": "OSMagics",
        "pprint": "BasicMagics",
        "precision": "BasicMagics",
        "prun": "ExecutionMagics",
        "psearch": "NamespaceMagics",
        "psource": "NamespaceMagics",
        "pushd": "OSMagics",
        "pwd": "OSMagics",
        "pycat": "OSMagics",
        "pylab": "PylabMagics",
        "qtconsole": "KernelMagics",
        "quickref": "BasicMagics",
        "recall": "HistoryMagics",
        "rehashx": "OSMagics",
        "reload_ext": "ExtensionMagics",
        "ren": "Other",
        "rep": "Other",
        "rerun": "HistoryMagics",
        "reset": "NamespaceMagics",
        "reset_selective": "NamespaceMagics",
        "rmdir": "Other",
        "run": "ExecutionMagics",
        "save": "CodeMagics",
        "sc": "OSMagics",
        "set_env": "OSMagics",
        "store": "StoreMagics",
        "sx": "OSMagics",
        "system": "OSMagics",
        "tb": "ExecutionMagics",
        "time": "ExecutionMagics",
        "timeit": "ExecutionMagics",
        "unalias": "OSMagics",
        "unload_ext": "ExtensionMagics",
        "who": "NamespaceMagics",
        "who_ls": "NamespaceMagics",
        "whos": "NamespaceMagics",
        "xdel": "NamespaceMagics",
        "xmode": "BasicMagics"
       }
      },
      "text/plain": [
       "Available line magics:\n",
       "%alias  %alias_magic  %autoawait  %autocall  %automagic  %autosave  %bookmark  %cd  %clear  %cls  %colors  %conda  %config  %connect_info  %copy  %ddir  %debug  %dhist  %dirs  %doctest_mode  %echo  %ed  %edit  %env  %gui  %hist  %history  %killbgscripts  %ldir  %less  %load  %load_ext  %loadpy  %logoff  %logon  %logstart  %logstate  %logstop  %ls  %lsmagic  %macro  %magic  %matplotlib  %mkdir  %more  %notebook  %page  %pastebin  %pdb  %pdef  %pdoc  %pfile  %pinfo  %pinfo2  %pip  %popd  %pprint  %precision  %prun  %psearch  %psource  %pushd  %pwd  %pycat  %pylab  %qtconsole  %quickref  %recall  %rehashx  %reload_ext  %ren  %rep  %rerun  %reset  %reset_selective  %rmdir  %run  %save  %sc  %set_env  %store  %sx  %system  %tb  %time  %timeit  %unalias  %unload_ext  %who  %who_ls  %whos  %xdel  %xmode\n",
       "\n",
       "Available cell magics:\n",
       "%%!  %%HTML  %%SVG  %%bash  %%capture  %%cmd  %%debug  %%file  %%html  %%javascript  %%js  %%latex  %%markdown  %%perl  %%prun  %%pypy  %%python  %%python2  %%python3  %%ruby  %%script  %%sh  %%svg  %%sx  %%system  %%time  %%timeit  %%writefile\n",
       "\n",
       "Automagic is ON, % prefix IS NOT needed for line magics."
      ]
     },
     "execution_count": 8,
     "metadata": {},
     "output_type": "execute_result"
    }
   ],
   "source": [
    "%lsmagic"
   ]
  },
  {
   "cell_type": "code",
   "execution_count": null,
   "id": "649339a4-885d-4ae0-ad8d-eade6fc0d4c7",
   "metadata": {},
   "outputs": [],
   "source": [
    "%"
   ]
  },
  {
   "cell_type": "code",
   "execution_count": null,
   "id": "9afc4e2e-6451-4ed7-9fc5-6150ec779e49",
   "metadata": {},
   "outputs": [],
   "source": [
    "np"
   ]
  },
  {
   "cell_type": "code",
   "execution_count": null,
   "id": "ab0b9c69-b0be-4ab7-b509-a8d8db544d35",
   "metadata": {},
   "outputs": [],
   "source": [
    "%cd Jupyter-AI/"
   ]
  },
  {
   "cell_type": "code",
   "execution_count": 10,
   "id": "742e33fc-6e0c-491c-bf04-f18dc35aaef4",
   "metadata": {},
   "outputs": [
    {
     "name": "stdout",
     "output_type": "stream",
     "text": [
      " C 드라이브의 볼륨에는 이름이 없습니다.\n",
      " 볼륨 일련 번호: F0CF-116A\n",
      "\n",
      " C:\\Users\\user\\pythondata 디렉터리\n",
      "\n",
      "2023-03-16  오전 10:02    <DIR>          .\n",
      "2023-03-16  오전 10:02    <DIR>          ..\n",
      "2023-03-15  오후 05:30    <DIR>          .ipynb_checkpoints\n",
      "2023-03-08  오전 09:00    <DIR>          1\n",
      "2023-03-15  오후 03:25             3,371 1-00개발환경.ipynb\n",
      "2023-03-16  오전 10:02            88,296 1-01JupyterNotebook.ipynb\n",
      "2023-03-15  오후 03:25         1,937,368 1-03Basic1_A.ipynb\n",
      "2023-03-15  오후 03:37            16,573 1-03Basic2.ipynb\n",
      "2023-03-15  오후 03:38           152,481 1-04Sequence_0.ipynb\n",
      "2023-03-15  오후 03:38            40,221 1-05Strings-Usages.ipynb\n",
      "2023-03-13  오전 11:47    <DIR>          2\n",
      "2023-03-15  오후 05:18               140 add.py\n",
      "2023-03-15  오후 05:30                18 sub1.md\n",
      "               8개 파일           2,238,468 바이트\n",
      "               5개 디렉터리  152,572,821,504 바이트 남음\n"
     ]
    }
   ],
   "source": [
    "%ls"
   ]
  },
  {
   "cell_type": "code",
   "execution_count": 22,
   "id": "858ce59a-1ac6-4b6c-b5fc-de79ddc7c52b",
   "metadata": {},
   "outputs": [
    {
     "name": "stdout",
     "output_type": "stream",
     "text": [
      "Variable   Type        Data/Info\n",
      "--------------------------------\n",
      "a          int         10\n",
      "debugpy    module      <module 'debugpy' from 'C<...>s\\\\debugpy\\\\__init__.py'>\n",
      "sum        function    <function sum at 0x000002DE8E033D00>\n"
     ]
    }
   ],
   "source": [
    "%whos"
   ]
  },
  {
   "cell_type": "code",
   "execution_count": 12,
   "id": "ea022ae0-da7c-48e7-a1be-e9ae66629605",
   "metadata": {},
   "outputs": [],
   "source": [
    "del a"
   ]
  },
  {
   "cell_type": "code",
   "execution_count": 13,
   "id": "4c940c3f-a182-4915-880a-6742efd98b97",
   "metadata": {},
   "outputs": [
    {
     "name": "stdout",
     "output_type": "stream",
     "text": [
      "Variable   Type      Data/Info\n",
      "------------------------------\n",
      "np         module    <module 'numpy' from 'C:\\<...>ges\\\\numpy\\\\__init__.py'>\n"
     ]
    }
   ],
   "source": [
    "%whos"
   ]
  },
  {
   "cell_type": "code",
   "execution_count": 25,
   "id": "6206f206-30cf-4ca0-9b12-c27e71299af0",
   "metadata": {},
   "outputs": [
    {
     "name": "stderr",
     "output_type": "stream",
     "text": [
      "UsageError: %%time is a cell magic, but the cell body is empty. Did you mean the line magic %time (single %)?\n"
     ]
    }
   ],
   "source": [
    "%%time"
   ]
  },
  {
   "cell_type": "code",
   "execution_count": null,
   "id": "d200383f-1f15-4460-b4c8-c5c2daa3e827",
   "metadata": {},
   "outputs": [],
   "source": [
    "%%writefile"
   ]
  },
  {
   "cell_type": "code",
   "execution_count": 23,
   "id": "ca886b5c-fe28-4702-ac61-39a2f45fa219",
   "metadata": {},
   "outputs": [
    {
     "name": "stdout",
     "output_type": "stream",
     "text": [
      "Overwriting add.py\n"
     ]
    }
   ],
   "source": [
    "%%writefile add.py\n",
    "\n",
    "def add(x:int, y:int) -> int:\n",
    "    \"\"\"add()는 두 수를 더한 결과를 반환한다.\n",
    "    \"\"\"\n",
    "    return x+y\n",
    "\n",
    "print(add(100, 20))"
   ]
  },
  {
   "cell_type": "code",
   "execution_count": 15,
   "id": "f96b14b7-eaf2-4e9d-8b41-e94651806c97",
   "metadata": {},
   "outputs": [
    {
     "name": "stdout",
     "output_type": "stream",
     "text": [
      " C 드라이브의 볼륨에는 이름이 없습니다.\n",
      " 볼륨 일련 번호: F0CF-116A\n",
      "\n",
      " C:\\Users\\user\\pythondata 디렉터리\n",
      "\n",
      "2023-03-16  오전 10:13               140 add.py\n",
      "               1개 파일                 140 바이트\n",
      "               0개 디렉터리  152,571,551,744 바이트 남음\n"
     ]
    }
   ],
   "source": [
    "%ls add.py"
   ]
  },
  {
   "cell_type": "code",
   "execution_count": 16,
   "id": "4b000fc1-96ae-499e-a54d-e38bfa9a45cb",
   "metadata": {},
   "outputs": [
    {
     "data": {
      "text/plain": [
       "\u001b[1;33m\n",
       "\u001b[0m\u001b[1;32mdef\u001b[0m \u001b[0madd\u001b[0m\u001b[1;33m(\u001b[0m\u001b[0mx\u001b[0m\u001b[1;33m:\u001b[0m\u001b[0mint\u001b[0m\u001b[1;33m,\u001b[0m \u001b[0my\u001b[0m\u001b[1;33m:\u001b[0m\u001b[0mint\u001b[0m\u001b[1;33m)\u001b[0m \u001b[1;33m->\u001b[0m \u001b[0mint\u001b[0m\u001b[1;33m:\u001b[0m\u001b[1;33m\n",
       "\u001b[0m    \u001b[1;34m\"\"\"add()는 두 수를 더한 결과를 반환한다.\n",
       "    \"\"\"\u001b[0m\u001b[1;33m\n",
       "\u001b[0m    \u001b[1;32mreturn\u001b[0m \u001b[0mx\u001b[0m\u001b[1;33m+\u001b[0m\u001b[0my\u001b[0m\u001b[1;33m\n",
       "\u001b[0m\u001b[1;33m\n",
       "\u001b[0m\u001b[0mprint\u001b[0m\u001b[1;33m(\u001b[0m\u001b[0madd\u001b[0m\u001b[1;33m(\u001b[0m\u001b[1;36m100\u001b[0m\u001b[1;33m,\u001b[0m \u001b[1;36m20\u001b[0m\u001b[1;33m)\u001b[0m\u001b[1;33m)\u001b[0m\u001b[1;33m\u001b[0m\u001b[1;33m\u001b[0m\u001b[0m\n"
      ]
     },
     "metadata": {},
     "output_type": "display_data"
    }
   ],
   "source": [
    "%pycat add.py"
   ]
  },
  {
   "cell_type": "code",
   "execution_count": 17,
   "id": "5924a9d3-541f-4693-89e9-6ebecb2ccbc8",
   "metadata": {},
   "outputs": [
    {
     "name": "stdout",
     "output_type": "stream",
     "text": [
      "Overwriting add.py\n"
     ]
    }
   ],
   "source": [
    "%%writefile add.py\n",
    "\n",
    "def add(x:int, y:int) -> int:\n",
    "    return x+y\n",
    "\n",
    "print(\"result\", add(100, 20))"
   ]
  },
  {
   "cell_type": "code",
   "execution_count": 18,
   "id": "d6ce443d-5bf3-47b8-b19a-63049d9e981d",
   "metadata": {},
   "outputs": [
    {
     "data": {
      "text/plain": [
       "\u001b[1;33m\n",
       "\u001b[0m\u001b[1;32mdef\u001b[0m \u001b[0madd\u001b[0m\u001b[1;33m(\u001b[0m\u001b[0mx\u001b[0m\u001b[1;33m:\u001b[0m\u001b[0mint\u001b[0m\u001b[1;33m,\u001b[0m \u001b[0my\u001b[0m\u001b[1;33m:\u001b[0m\u001b[0mint\u001b[0m\u001b[1;33m)\u001b[0m \u001b[1;33m->\u001b[0m \u001b[0mint\u001b[0m\u001b[1;33m:\u001b[0m\u001b[1;33m\n",
       "\u001b[0m    \u001b[1;32mreturn\u001b[0m \u001b[0mx\u001b[0m\u001b[1;33m+\u001b[0m\u001b[0my\u001b[0m\u001b[1;33m\n",
       "\u001b[0m\u001b[1;33m\n",
       "\u001b[0m\u001b[0mprint\u001b[0m\u001b[1;33m(\u001b[0m\u001b[1;34m\"result\"\u001b[0m\u001b[1;33m,\u001b[0m \u001b[0madd\u001b[0m\u001b[1;33m(\u001b[0m\u001b[1;36m100\u001b[0m\u001b[1;33m,\u001b[0m \u001b[1;36m20\u001b[0m\u001b[1;33m)\u001b[0m\u001b[1;33m)\u001b[0m\u001b[1;33m\u001b[0m\u001b[1;33m\u001b[0m\u001b[0m\n"
      ]
     },
     "metadata": {},
     "output_type": "display_data"
    }
   ],
   "source": [
    "%pycat add.py"
   ]
  },
  {
   "cell_type": "code",
   "execution_count": 21,
   "id": "d98901e5-9ae6-41c0-9015-f2a3efb8364c",
   "metadata": {},
   "outputs": [
    {
     "name": "stdout",
     "output_type": "stream",
     "text": [
      "Appending to add.py\n"
     ]
    }
   ],
   "source": [
    "%%writefile -a add.py\n",
    "\n",
    "def add(x:int, y:int) -> int:\n",
    "    return x+y\n",
    "    \"\"\"add()는 두 수를 더한 결과를 반환한다.\n",
    "    \"\"\"\n",
    "print(add(100, 20))"
   ]
  },
  {
   "cell_type": "code",
   "execution_count": 22,
   "id": "798e1f6e-64a7-4370-9fce-f4c9ec07c0bd",
   "metadata": {},
   "outputs": [
    {
     "data": {
      "text/plain": [
       "\u001b[1;33m\n",
       "\u001b[0m\u001b[1;32mdef\u001b[0m \u001b[0madd\u001b[0m\u001b[1;33m(\u001b[0m\u001b[0mx\u001b[0m\u001b[1;33m:\u001b[0m\u001b[0mint\u001b[0m\u001b[1;33m,\u001b[0m \u001b[0my\u001b[0m\u001b[1;33m:\u001b[0m\u001b[0mint\u001b[0m\u001b[1;33m)\u001b[0m \u001b[1;33m->\u001b[0m \u001b[0mint\u001b[0m\u001b[1;33m:\u001b[0m\u001b[1;33m\n",
       "\u001b[0m    \u001b[1;32mreturn\u001b[0m \u001b[0mx\u001b[0m\u001b[1;33m+\u001b[0m\u001b[0my\u001b[0m\u001b[1;33m\n",
       "\u001b[0m\u001b[1;33m\n",
       "\u001b[0m\u001b[0mprint\u001b[0m\u001b[1;33m(\u001b[0m\u001b[1;34m\"result\"\u001b[0m\u001b[1;33m,\u001b[0m \u001b[0madd\u001b[0m\u001b[1;33m(\u001b[0m\u001b[1;36m100\u001b[0m\u001b[1;33m,\u001b[0m \u001b[1;36m20\u001b[0m\u001b[1;33m)\u001b[0m\u001b[1;33m)\u001b[0m\u001b[1;33m\n",
       "\u001b[0m\u001b[1;33m\n",
       "\u001b[0m\u001b[1;32mdef\u001b[0m \u001b[0madd\u001b[0m\u001b[1;33m(\u001b[0m\u001b[0mx\u001b[0m\u001b[1;33m:\u001b[0m\u001b[0mint\u001b[0m\u001b[1;33m,\u001b[0m \u001b[0my\u001b[0m\u001b[1;33m:\u001b[0m\u001b[0mint\u001b[0m\u001b[1;33m)\u001b[0m \u001b[1;33m->\u001b[0m \u001b[0mint\u001b[0m\u001b[1;33m:\u001b[0m\u001b[1;33m\n",
       "\u001b[0m    \u001b[1;32mreturn\u001b[0m \u001b[0mx\u001b[0m\u001b[1;33m+\u001b[0m\u001b[0my\u001b[0m\u001b[1;33m\n",
       "\u001b[0m\u001b[1;33m\n",
       "\u001b[0m\u001b[0mprint\u001b[0m\u001b[1;33m(\u001b[0m\u001b[0madd\u001b[0m\u001b[1;33m(\u001b[0m\u001b[1;36m100\u001b[0m\u001b[1;33m,\u001b[0m \u001b[1;36m20\u001b[0m\u001b[1;33m)\u001b[0m\u001b[1;33m)\u001b[0m\u001b[1;33m\n",
       "\u001b[0m\u001b[1;33m\n",
       "\u001b[0m\u001b[1;32mdef\u001b[0m \u001b[0madd\u001b[0m\u001b[1;33m(\u001b[0m\u001b[0mx\u001b[0m\u001b[1;33m:\u001b[0m\u001b[0mint\u001b[0m\u001b[1;33m,\u001b[0m \u001b[0my\u001b[0m\u001b[1;33m:\u001b[0m\u001b[0mint\u001b[0m\u001b[1;33m)\u001b[0m \u001b[1;33m->\u001b[0m \u001b[0mint\u001b[0m\u001b[1;33m:\u001b[0m\u001b[1;33m\n",
       "\u001b[0m    \u001b[1;32mreturn\u001b[0m \u001b[0mx\u001b[0m\u001b[1;33m+\u001b[0m\u001b[0my\u001b[0m\u001b[1;33m\n",
       "\u001b[0m    \u001b[1;34m\"\"\"add()는 두 수를 더한 결과를 반환한다.\n",
       "    \"\"\"\u001b[0m\u001b[1;33m\n",
       "\u001b[0m\u001b[0mprint\u001b[0m\u001b[1;33m(\u001b[0m\u001b[0madd\u001b[0m\u001b[1;33m(\u001b[0m\u001b[1;36m100\u001b[0m\u001b[1;33m,\u001b[0m \u001b[1;36m20\u001b[0m\u001b[1;33m)\u001b[0m\u001b[1;33m)\u001b[0m\u001b[1;33m\u001b[0m\u001b[1;33m\u001b[0m\u001b[0m\n"
      ]
     },
     "metadata": {},
     "output_type": "display_data"
    }
   ],
   "source": [
    "%pycat add.py"
   ]
  },
  {
   "cell_type": "code",
   "execution_count": null,
   "id": "2b716f2c-c3e8-446d-b96b-7c0da3a2572e",
   "metadata": {},
   "outputs": [],
   "source": [
    "%run"
   ]
  },
  {
   "cell_type": "code",
   "execution_count": 24,
   "id": "8b31be82-9fd0-4e92-ba6d-bbc417fb6d38",
   "metadata": {},
   "outputs": [
    {
     "data": {
      "text/plain": [
       "\u001b[1;33m\n",
       "\u001b[0m\u001b[1;32mdef\u001b[0m \u001b[0madd\u001b[0m\u001b[1;33m(\u001b[0m\u001b[0mx\u001b[0m\u001b[1;33m:\u001b[0m\u001b[0mint\u001b[0m\u001b[1;33m,\u001b[0m \u001b[0my\u001b[0m\u001b[1;33m:\u001b[0m\u001b[0mint\u001b[0m\u001b[1;33m)\u001b[0m \u001b[1;33m->\u001b[0m \u001b[0mint\u001b[0m\u001b[1;33m:\u001b[0m\u001b[1;33m\n",
       "\u001b[0m    \u001b[1;34m\"\"\"add()는 두 수를 더한 결과를 반환한다.\n",
       "    \"\"\"\u001b[0m\u001b[1;33m\n",
       "\u001b[0m    \u001b[1;32mreturn\u001b[0m \u001b[0mx\u001b[0m\u001b[1;33m+\u001b[0m\u001b[0my\u001b[0m\u001b[1;33m\n",
       "\u001b[0m\u001b[1;33m\n",
       "\u001b[0m\u001b[0mprint\u001b[0m\u001b[1;33m(\u001b[0m\u001b[0madd\u001b[0m\u001b[1;33m(\u001b[0m\u001b[1;36m100\u001b[0m\u001b[1;33m,\u001b[0m \u001b[1;36m20\u001b[0m\u001b[1;33m)\u001b[0m\u001b[1;33m)\u001b[0m\u001b[1;33m\u001b[0m\u001b[1;33m\u001b[0m\u001b[0m\n"
      ]
     },
     "metadata": {},
     "output_type": "display_data"
    }
   ],
   "source": [
    "%pycat add.py"
   ]
  },
  {
   "cell_type": "code",
   "execution_count": 25,
   "id": "1f859a5c-a21f-4c20-a3ca-a407047e45cf",
   "metadata": {},
   "outputs": [
    {
     "name": "stdout",
     "output_type": "stream",
     "text": [
      " C 드라이브의 볼륨에는 이름이 없습니다.\n",
      " 볼륨 일련 번호: F0CF-116A\n",
      "\n",
      " C:\\Users\\user\\pythondata 디렉터리\n",
      "\n",
      "2023-03-16  오전 10:21               140 add.py\n",
      "               1개 파일                 140 바이트\n",
      "               0개 디렉터리  152,568,561,664 바이트 남음\n"
     ]
    }
   ],
   "source": [
    "%ls add.py"
   ]
  },
  {
   "cell_type": "code",
   "execution_count": 26,
   "id": "0016a3f3-1dfc-4fc0-899d-9b0644b8d02c",
   "metadata": {},
   "outputs": [
    {
     "name": "stdout",
     "output_type": "stream",
     "text": [
      "120\n"
     ]
    }
   ],
   "source": [
    "%run add.py"
   ]
  },
  {
   "cell_type": "code",
   "execution_count": 28,
   "id": "6b0eb995-182e-4e67-b347-9946c8735502",
   "metadata": {
    "collapsed": true,
    "jupyter": {
     "outputs_hidden": true
    },
    "tags": []
   },
   "outputs": [
    {
     "name": "stdout",
     "output_type": "stream",
     "text": [
      "특정 명령어에 대한 자세한 내용이 필요하면 HELP 명령어 이름을 입력하십시오.\n",
      "ASSOC    파일 확장명 연결을 보여주거나 수정합니다.\n",
      "ATTRIB   파일 속성을 표시하거나 바꿉니다.\n",
      "BREAK    확장된 CTRL+C 검사를 설정하거나 지웁니다.\n",
      "BCDEDIT        부팅 로딩을 제어하기 위해 부팅 데이터베이스에서 속성을 설정합니다.\n",
      "CACLS    파일의 액세스 컨트롤 목록(ACL)을 표시하거나 수정합니다.\n",
      "CALL     한 일괄 프로그램에서 다른 일괄 프로그램을 호출합니다.\n",
      "CD       현재 디렉터리 이름을 보여주거나 바꿉니다.\n",
      "CHCP     활성화된 코드 페이지의 번호를 표시하거나 설정합니다.\n",
      "CHDIR    현재 디렉터리 이름을 보여주거나 바꿉니다.\n",
      "CHKDSK   디스크를 검사하고 상태 보고서를 표시합니다.\n",
      "CHKNTFS  부팅하는 동안 디스크 확인을 화면에 표시하거나 변경합니다.\n",
      "CLS      화면을 지웁니다.\n",
      "CMD      Windows 명령 인터프리터의 새 인스턴스를 시작합니다.\n",
      "COLOR    콘솔의 기본색과 배경색을 설정합니다.\n",
      "COMP     두 개 또는 여러 개의 파일을 비교합니다.\n",
      "COMPACT  NTFS 분할 영역에 있는 파일의 압축을 표시하거나 변경합니다.\n",
      "CONVERT  FAT 볼륨을 NTFS로 변환합니다. 현재 드라이브는\n",
      "         변환할 수 없습니다.\n",
      "COPY     하나 이상의 파일을 다른 위치로 복사합니다.\n",
      "DATE     날짜를 보여주거나 설정합니다.\n",
      "DEL      하나 이상의 파일을 지웁니다.\n",
      "DIR      디렉터리에 있는 파일과 하위 디렉터리 목록을 보여줍니다.\n",
      "DISKPART       디스크 파티션 속성을 표시하거나 구성합니다.\n",
      "DOSKEY       명령줄을 편집하고, Windows 명령을 다시 호출하고, \n",
      "               매크로를 만듭니다.\n",
      "DRIVERQUERY    현재 장치 드라이버 상태와 속성을 표시합니다.\n",
      "ECHO           메시지를 표시하거나 ECHO를 켜거나 끕니다.\n",
      "ENDLOCAL       배치 파일에서 환경 변경의 지역화를 끝냅니다.\n",
      "ERASE          하나 이상의 파일을 지웁니다.\n",
      "EXIT           CMD.EXE 프로그램(명령 인터프리터)을 종료합니다.\n",
      "FC             두 파일 또는 파일 집합을 비교하여 다른 점을\n",
      "         표시합니다.\n",
      "FIND           파일에서 텍스트 문자열을 검색합니다.\n",
      "FINDSTR        파일에서 문자열을 검색합니다.\n",
      "FOR            파일 집합의 각 파일에 대해 지정된 명령을 실행합니다.\n",
      "FORMAT         Windows에서 사용할 디스크를 포맷합니다.\n",
      "FSUTIL         파일 시스템 속성을 표시하거나 구성합니다.\n",
      "FTYPE          파일 확장명 연결에 사용되는 파일 형식을 표시하거나 \n",
      "               수정합니다.\n",
      "GOTO           Windows 명령 인터프리터가 일괄 프로그램에서 \n",
      "               이름표가 붙여진 줄로 이동합니다.\n",
      "GPRESULT       컴퓨터 또는 사용자에 대한 그룹 정책 정보를 표시합니다.\n",
      "GRAFTABL       Windows가 그래픽 모드에서 확장 문자 세트를 표시할\n",
      "         수 있게 합니다.\n",
      "HELP           Windows 명령에 대한 도움말 정보를 제공합니다.\n",
      "ICACLS         파일과 디렉터리에 대한 ACL을 표시, 수정, 백업 또는 \n",
      "               복원합니다.\n",
      "IF             일괄 프로그램에서 조건 처리를 수행합니다.\n",
      "LABEL          디스크의 볼륨 이름을 만들거나, 바꾸거나, 지웁니다.\n",
      "MD             디렉터리를 만듭니다.\n",
      "MKDIR          디렉터리를 만듭니다.\n",
      "MKLINK         바로 가기 링크와 하드 링크를 만듭니다.\n",
      "MODE           시스템 장치를 구성합니다.\n",
      "MORE           출력을 한번에 한 화면씩 표시합니다.\n",
      "MOVE           하나 이상의 파일을 한 디렉터리에서 다른 디렉터리로 \n",
      "               이동합니다.\n",
      "OPENFILES      파일 공유에서 원격 사용자에 의해 열린 파일을 표시합니다.\n",
      "PATH           실행 파일의 찾기 경로를 표시하거나 설정합니다.\n",
      "PAUSE          배치 파일의 처리를 일시 중단하고 메시지를 표시합니다.\n",
      "POPD           PUSHD에 의해 저장된 현재 디렉터리의 이전 값을 \n",
      "               복원합니다.\n",
      "PRINT          텍스트 파일을 인쇄합니다.\n",
      "PROMPT         Windows 명령 프롬프트를 변경합니다.\n",
      "PUSHD          현재 디렉터리를 저장한 다음 변경합니다.\n",
      "RD             디렉터리를 제거합니다.\n",
      "RECOVER        불량이거나 결함이 있는 디스크에서 읽을 수 있는 정보를 복구합니다.\n",
      "REM            배치 파일 또는 CONFIG.SYS에 주석을 기록합니다.\n",
      "REN            파일 이름을 바꿉니다.\n",
      "RENAME         파일 이름을 바꿉니다.\n",
      "REPLACE        파일을 바꿉니다.\n",
      "RMDIR          디렉터리를 제거합니다.\n",
      "ROBOCOPY       파일과 디렉터리 트리를 복사할 수 있는 고급 유틸리티입니다.\n",
      "SET            Windows 환경 변수를 표시, 설정 또는 제거합니다.\n",
      "SETLOCAL       배치 파일에서 환경 변경의 지역화를 시작합니다.\n",
      "SC             서비스(백그라운드 프로세스)를 표시하거나 구성합니다.\n",
      "SCHTASKS       컴퓨터에서 실행할 명령과 프로그램을 예약합니다.\n",
      "SHIFT          배치 파일에서 바꿀 수 있는 매개 변수의 위치를 바꿉니다.\n",
      "SHUTDOWN       컴퓨터의 로컬 또는 원격 종료를 허용합니다.\n",
      "SORT           입력을 정렬합니다.\n",
      "START          지정한 프로그램이나 명령을 실행할 별도의 창을 시작합니다.\n",
      "SUBST          경로를 드라이브 문자에 연결합니다.\n",
      "SYSTEMINFO     컴퓨터별 속성과 구성을 표시합니다.\n",
      "TASKLIST       서비스를 포함하여 현재 실행 중인 모든 작업을 표시합니다.\n",
      "TASKKILL       실행 중인 프로세스나 응용 프로그램을 중단합니다.\n",
      "TIME           시스템 시간을 표시하거나 설정합니다.\n",
      "TITLE          CMD.EXE 세션에 대한 창 제목을 설정합니다.\n",
      "TREE           드라이브 또는 경로의 디렉터리 구조를 그래픽으로 \n",
      "               표시합니다.\n",
      "TYPE           텍스트 파일의 내용을 표시합니다.\n",
      "VER            Windows 버전을 표시합니다.\n",
      "VERIFY         파일이 디스크에 올바로 기록되었는지 검증할지\n",
      "         여부를 지정합니다.\n",
      "VOL            디스크 볼륨 레이블과 일련 번호를 표시합니다.\n",
      "XCOPY          파일과 디렉터리 트리를 복사합니다.\n",
      "WMIC           대화형 명령 셸 내의 WMI 정보를 표시합니다.\n",
      "\n",
      "도구에 대한 자세한 내용은 온라인 도움말의 명령줄 참조를 참조하십시오.\n"
     ]
    }
   ],
   "source": [
    "! help"
   ]
  },
  {
   "cell_type": "code",
   "execution_count": 31,
   "id": "7741b8ec-10a4-4edc-ac67-396cf0265b27",
   "metadata": {},
   "outputs": [
    {
     "name": "stdout",
     "output_type": "stream",
     "text": [
      "120\n"
     ]
    }
   ],
   "source": [
    "! python add.py"
   ]
  },
  {
   "cell_type": "code",
   "execution_count": null,
   "id": "7b1fd74a-d22b-4cb1-bd5a-51eabc72492f",
   "metadata": {},
   "outputs": [],
   "source": []
  },
  {
   "cell_type": "code",
   "execution_count": null,
   "id": "6ece8ad7-e218-4339-8711-d494d1ccee97",
   "metadata": {},
   "outputs": [],
   "source": []
  },
  {
   "cell_type": "code",
   "execution_count": null,
   "id": "c0525a34-9020-4145-a37e-7294e4b6bae9",
   "metadata": {},
   "outputs": [],
   "source": []
  },
  {
   "cell_type": "markdown",
   "id": "e88ba192-785d-4ab4-9cf8-38515f8caf33",
   "metadata": {},
   "source": [
    "## 디렉토리\n",
    "\n",
    "folder / directory : 파일을 담아두는 공간. 같은 의미!"
   ]
  },
  {
   "cell_type": "code",
   "execution_count": 31,
   "id": "d10abd40-feee-4767-95c8-27960e421d40",
   "metadata": {},
   "outputs": [
    {
     "data": {
      "text/plain": [
       "'C:\\\\Users\\\\user\\\\pythondata'"
      ]
     },
     "execution_count": 31,
     "metadata": {},
     "output_type": "execute_result"
    }
   ],
   "source": [
    "%pwd"
   ]
  },
  {
   "cell_type": "code",
   "execution_count": 32,
   "id": "eb3e5e99-eba2-4657-85b6-92507aef3c27",
   "metadata": {},
   "outputs": [
    {
     "name": "stdout",
     "output_type": "stream",
     "text": [
      " C 드라이브의 볼륨에는 이름이 없습니다.\n",
      " 볼륨 일련 번호: F0CF-116A\n",
      "\n",
      " C:\\Users\\user\\pythondata 디렉터리\n",
      "\n",
      "2023-03-16  오전 10:32    <DIR>          .\n",
      "2023-03-16  오전 10:32    <DIR>          ..\n",
      "2023-03-15  오후 05:30    <DIR>          .ipynb_checkpoints\n",
      "2023-03-08  오전 09:00    <DIR>          1\n",
      "2023-03-15  오후 03:25             3,371 1-00개발환경.ipynb\n",
      "2023-03-16  오전 10:32           106,260 1-01JupyterNotebook.ipynb\n",
      "2023-03-15  오후 03:25         1,937,368 1-03Basic1_A.ipynb\n",
      "2023-03-15  오후 03:37            16,573 1-03Basic2.ipynb\n",
      "2023-03-15  오후 03:38           152,481 1-04Sequence_0.ipynb\n",
      "2023-03-15  오후 03:38            40,221 1-05Strings-Usages.ipynb\n",
      "2023-03-13  오전 11:47    <DIR>          2\n",
      "2023-03-16  오전 10:21               140 add.py\n",
      "2023-03-15  오후 05:30                18 sub1.md\n",
      "               8개 파일           2,256,432 바이트\n",
      "               5개 디렉터리  152,566,935,552 바이트 남음\n"
     ]
    }
   ],
   "source": [
    "%ls"
   ]
  },
  {
   "cell_type": "code",
   "execution_count": 33,
   "id": "3bf637e1-8468-461b-b905-44cc03b1e4e9",
   "metadata": {},
   "outputs": [
    {
     "name": "stdout",
     "output_type": "stream",
     "text": [
      "C:\\Users\\user\n"
     ]
    }
   ],
   "source": [
    "%cd .."
   ]
  },
  {
   "cell_type": "code",
   "execution_count": 34,
   "id": "3fa6d25d-d035-444a-81fa-7ed48bb02f33",
   "metadata": {},
   "outputs": [
    {
     "data": {
      "text/plain": [
       "'C:\\\\Users\\\\user'"
      ]
     },
     "execution_count": 34,
     "metadata": {},
     "output_type": "execute_result"
    }
   ],
   "source": [
    "%pwd"
   ]
  },
  {
   "cell_type": "code",
   "execution_count": 35,
   "id": "29a9f9e4-7bf6-4b3f-999e-ec6460aa9de6",
   "metadata": {},
   "outputs": [
    {
     "name": "stdout",
     "output_type": "stream",
     "text": [
      " C 드라이브의 볼륨에는 이름이 없습니다.\n",
      " 볼륨 일련 번호: F0CF-116A\n",
      "\n",
      " C:\\Users\\user 디렉터리\n",
      "\n",
      "2023-03-15  오후 06:33    <DIR>          .\n",
      "2023-03-15  오후 06:33    <DIR>          ..\n",
      "2023-03-15  오후 01:45    <DIR>          .conda\n",
      "2023-03-07  오후 08:55    <DIR>          .ipython\n",
      "2023-03-15  오후 02:46    <DIR>          .jupyter\n",
      "2023-03-08  오전 09:02    <DIR>          .matplotlib\n",
      "2023-03-08  오전 10:34    <DIR>          .ms-ad\n",
      "2020-10-17  오후 02:41    <DIR>          3D Objects\n",
      "2020-10-17  오후 02:41    <DIR>          Contacts\n",
      "2023-03-07  오후 08:25    <DIR>          Desktop\n",
      "2023-03-10  오후 02:41    <DIR>          Documents\n",
      "2023-03-15  오후 07:31    <DIR>          Downloads\n",
      "2020-10-17  오후 02:41    <DIR>          Favorites\n",
      "2023-03-15  오후 06:33    <DIR>          jupyter_python\n",
      "2020-10-17  오후 02:41    <DIR>          Links\n",
      "2020-10-17  오후 02:41    <DIR>          Music\n",
      "2020-10-17  오후 02:44    <DIR>          OneDrive\n",
      "2020-10-17  오후 02:42    <DIR>          Pictures\n",
      "2023-03-16  오전 10:34    <DIR>          pythondata\n",
      "2020-10-17  오후 02:41    <DIR>          Saved Games\n",
      "2023-03-09  오전 09:30    <DIR>          seaborn-data\n",
      "2020-10-17  오후 02:42    <DIR>          Searches\n",
      "2021-11-06  오후 05:18    <DIR>          Videos\n",
      "               0개 파일                   0 바이트\n",
      "              23개 디렉터리  152,566,587,392 바이트 남음\n"
     ]
    }
   ],
   "source": [
    "%ls"
   ]
  },
  {
   "cell_type": "code",
   "execution_count": 36,
   "id": "201afb50-df4e-4fbe-a1cc-e4a4ba427942",
   "metadata": {},
   "outputs": [
    {
     "name": "stdout",
     "output_type": "stream",
     "text": [
      "C:\\Users\\user\\pythondata\n"
     ]
    }
   ],
   "source": [
    "%cd pythondata"
   ]
  },
  {
   "cell_type": "code",
   "execution_count": 37,
   "id": "cec82257-edd8-43a7-9c0c-329322a421cb",
   "metadata": {},
   "outputs": [
    {
     "data": {
      "text/plain": [
       "'C:\\\\Users\\\\user\\\\pythondata'"
      ]
     },
     "execution_count": 37,
     "metadata": {},
     "output_type": "execute_result"
    }
   ],
   "source": [
    "%pwd"
   ]
  },
  {
   "cell_type": "code",
   "execution_count": 39,
   "id": "21758526-f8c9-4f95-9fa8-8d3c8eb31bcb",
   "metadata": {},
   "outputs": [
    {
     "name": "stderr",
     "output_type": "stream",
     "text": [
      "하위 디렉터리 또는 파일 test이(가) 이미 있습니다.\n"
     ]
    }
   ],
   "source": [
    "%mkdir test"
   ]
  },
  {
   "cell_type": "code",
   "execution_count": 40,
   "id": "bc3f2d84-5279-4428-b3a0-62bd2ff5fa4f",
   "metadata": {},
   "outputs": [
    {
     "name": "stdout",
     "output_type": "stream",
     "text": [
      " C 드라이브의 볼륨에는 이름이 없습니다.\n",
      " 볼륨 일련 번호: F0CF-116A\n",
      "\n",
      " C:\\Users\\user\\pythondata\\test 디렉터리\n",
      "\n",
      "2023-03-16  오전 10:37    <DIR>          .\n",
      "2023-03-16  오전 10:37    <DIR>          ..\n",
      "               0개 파일                   0 바이트\n",
      "               2개 디렉터리  152,564,658,176 바이트 남음\n"
     ]
    }
   ],
   "source": [
    "%ls test"
   ]
  },
  {
   "cell_type": "code",
   "execution_count": 41,
   "id": "707c22e1-94b9-449a-9b9e-8c7c4db5bfde",
   "metadata": {},
   "outputs": [],
   "source": [
    "!mkdir test2"
   ]
  },
  {
   "cell_type": "code",
   "execution_count": 42,
   "id": "26f8f1d9-5f96-489c-87fd-3d6a47209384",
   "metadata": {},
   "outputs": [
    {
     "name": "stdout",
     "output_type": "stream",
     "text": [
      " C 드라이브의 볼륨에는 이름이 없습니다.\n",
      " 볼륨 일련 번호: F0CF-116A\n",
      "\n",
      " C:\\Users\\user\\pythondata 디렉터리\n",
      "\n",
      "2023-03-16  오전 10:46    <DIR>          .\n",
      "2023-03-16  오전 10:46    <DIR>          ..\n",
      "2023-03-15  오후 05:30    <DIR>          .ipynb_checkpoints\n",
      "2023-03-08  오전 09:00    <DIR>          1\n",
      "2023-03-15  오후 03:25             3,371 1-00개발환경.ipynb\n",
      "2023-03-16  오전 10:38           111,830 1-01JupyterNotebook.ipynb\n",
      "2023-03-15  오후 03:25         1,937,368 1-03Basic1_A.ipynb\n",
      "2023-03-15  오후 03:37            16,573 1-03Basic2.ipynb\n",
      "2023-03-15  오후 03:38           152,481 1-04Sequence_0.ipynb\n",
      "2023-03-15  오후 03:38            40,221 1-05Strings-Usages.ipynb\n",
      "2023-03-13  오전 11:47    <DIR>          2\n",
      "2023-03-16  오전 10:21               140 add.py\n",
      "2023-03-15  오후 05:30                18 sub1.md\n",
      "2023-03-16  오전 10:37    <DIR>          test\n",
      "2023-03-16  오전 10:46    <DIR>          test2\n",
      "               8개 파일           2,262,002 바이트\n",
      "               7개 디렉터리  152,563,892,224 바이트 남음\n"
     ]
    }
   ],
   "source": [
    "%ls"
   ]
  },
  {
   "cell_type": "code",
   "execution_count": 43,
   "id": "7dd13a79-8f57-4981-96b1-1faf066c2de0",
   "metadata": {},
   "outputs": [],
   "source": [
    "#디렉토리 지우기\n",
    "%rmdir test"
   ]
  },
  {
   "cell_type": "code",
   "execution_count": 44,
   "id": "9502074a-a4f1-4377-bf55-dab5ea83446a",
   "metadata": {},
   "outputs": [
    {
     "name": "stdout",
     "output_type": "stream",
     "text": [
      " C 드라이브의 볼륨에는 이름이 없습니다.\n",
      " 볼륨 일련 번호: F0CF-116A\n",
      "\n",
      " C:\\Users\\user\\pythondata 디렉터리\n",
      "\n",
      "2023-03-16  오전 11:02    <DIR>          .\n",
      "2023-03-16  오전 11:02    <DIR>          ..\n",
      "2023-03-15  오후 05:30    <DIR>          .ipynb_checkpoints\n",
      "2023-03-08  오전 09:00    <DIR>          1\n",
      "2023-03-15  오후 03:25             3,371 1-00개발환경.ipynb\n",
      "2023-03-16  오전 10:46           113,422 1-01JupyterNotebook.ipynb\n",
      "2023-03-15  오후 03:25         1,937,368 1-03Basic1_A.ipynb\n",
      "2023-03-15  오후 03:37            16,573 1-03Basic2.ipynb\n",
      "2023-03-15  오후 03:38           152,481 1-04Sequence_0.ipynb\n",
      "2023-03-15  오후 03:38            40,221 1-05Strings-Usages.ipynb\n",
      "2023-03-13  오전 11:47    <DIR>          2\n",
      "2023-03-16  오전 10:21               140 add.py\n",
      "2023-03-15  오후 05:30                18 sub1.md\n",
      "2023-03-16  오전 10:46    <DIR>          test2\n",
      "               8개 파일           2,263,594 바이트\n",
      "               6개 디렉터리  152,184,606,720 바이트 남음\n"
     ]
    }
   ],
   "source": [
    "%ls"
   ]
  },
  {
   "cell_type": "code",
   "execution_count": 45,
   "id": "17949405-2cf6-4a32-af3a-0476cc438ed8",
   "metadata": {},
   "outputs": [],
   "source": [
    "%ren test2 test3"
   ]
  },
  {
   "cell_type": "code",
   "execution_count": null,
   "id": "1b891b56-3de3-48d5-9f00-164725336c65",
   "metadata": {},
   "outputs": [],
   "source": []
  },
  {
   "cell_type": "code",
   "execution_count": 46,
   "id": "946040b7-8100-4868-8cef-f4063f23a672",
   "metadata": {},
   "outputs": [
    {
     "name": "stdout",
     "output_type": "stream",
     "text": [
      " C 드라이브의 볼륨에는 이름이 없습니다.\n",
      " 볼륨 일련 번호: F0CF-116A\n",
      "\n",
      " C:\\Users\\user\\pythondata 디렉터리\n",
      "\n",
      "2023-03-16  오전 11:06    <DIR>          .\n",
      "2023-03-16  오전 11:06    <DIR>          ..\n",
      "2023-03-15  오후 05:30    <DIR>          .ipynb_checkpoints\n",
      "2023-03-08  오전 09:00    <DIR>          1\n",
      "2023-03-15  오후 03:25             3,371 1-00개발환경.ipynb\n",
      "2023-03-16  오전 11:04           115,525 1-01JupyterNotebook.ipynb\n",
      "2023-03-15  오후 03:25         1,937,368 1-03Basic1_A.ipynb\n",
      "2023-03-15  오후 03:37            16,573 1-03Basic2.ipynb\n",
      "2023-03-15  오후 03:38           152,481 1-04Sequence_0.ipynb\n",
      "2023-03-15  오후 03:38            40,221 1-05Strings-Usages.ipynb\n",
      "2023-03-13  오전 11:47    <DIR>          2\n",
      "2023-03-16  오전 10:21               140 add.py\n",
      "2023-03-15  오후 05:30                18 sub1.md\n",
      "2023-03-16  오전 10:46    <DIR>          test3\n",
      "               8개 파일           2,265,697 바이트\n",
      "               6개 디렉터리  152,183,439,360 바이트 남음\n"
     ]
    }
   ],
   "source": [
    "%ls"
   ]
  },
  {
   "cell_type": "code",
   "execution_count": null,
   "id": "c4d7068b-d3ed-4621-95ae-3e11b96b521e",
   "metadata": {},
   "outputs": [],
   "source": [
    "!mv test2 test3"
   ]
  },
  {
   "cell_type": "code",
   "execution_count": null,
   "id": "d166377b-54da-4080-a2db-a4c203ddf391",
   "metadata": {},
   "outputs": [],
   "source": [
    "%mv test2 test3"
   ]
  },
  {
   "cell_type": "code",
   "execution_count": 47,
   "id": "58f50d4c-c4a2-4876-8b7a-defa6c50c293",
   "metadata": {},
   "outputs": [
    {
     "name": "stdout",
     "output_type": "stream",
     "text": [
      "help(a)\n",
      "a = 10\n",
      "help(a)\n",
      "a?\n",
      "import numpy as np\n",
      "np.exp\n",
      "help(np.exp)   # docstrings\n",
      "%lsmagic\n",
      "%ls\n",
      "%ls\n",
      "%whos\n",
      "del a\n",
      "%whos\n",
      "%%writefile add.py\n",
      "\n",
      "def add(x:int, y:int) -> int:\n",
      "    \"\"\"add()는 두 수를 더한 결과를 반환한다.\n",
      "    \"\"\"\n",
      "    return x+y\n",
      "\n",
      "print(add(100, 20))\n",
      "%ls add.py\n",
      "%pycat add.py\n",
      "%%writefile add.py\n",
      "\n",
      "def add(x:int, y:int) -> int:\n",
      "    return x+y\n",
      "\n",
      "print(\"result\", add(100, 20))\n",
      "%pycat add.py\n",
      "%%writefile -a add.py\n",
      "\n",
      "def add(x:int, y:int) -> int:\n",
      "    return x+y\n",
      "\n",
      "print(add(100, 20))\n",
      "%pycat add.py\n",
      "%%writefile -a add.py\n",
      "\n",
      "def add(x:int, y:int) -> int:\n",
      "    return x+y\n",
      "    \"\"\"add()는 두 수를 더한 결과를 반환한다.\n",
      "    \"\"\"\n",
      "print(add(100, 20))\n",
      "%pycat add.py\n",
      "%%writefile add.py\n",
      "\n",
      "def add(x:int, y:int) -> int:\n",
      "    \"\"\"add()는 두 수를 더한 결과를 반환한다.\n",
      "    \"\"\"\n",
      "    return x+y\n",
      "\n",
      "print(add(100, 20))\n",
      "%pycat add.py\n",
      "%ls add.py\n",
      "%run add.py\n",
      "! dir\n",
      "! help\n",
      "##디렉토리\n",
      "%ㅔㅈㅇ\n",
      "%pwd\n",
      "%ls\n",
      "%cd ..\n",
      "%pwd\n",
      "%ls\n",
      "%cd pythondata\n",
      "%pwd\n",
      "%mkdir test\n",
      "%mkdir test\n",
      "%ls test\n",
      "!mkdir test2\n",
      "%ls\n",
      "#디렉토리 지우기\n",
      "%rmdir test\n",
      "%ls\n",
      "%ren test2 test3\n",
      "%ls\n",
      "%history\n"
     ]
    }
   ],
   "source": [
    "%history"
   ]
  },
  {
   "cell_type": "code",
   "execution_count": 48,
   "id": "6211f88c-f9e7-4346-b141-e2e855e5a586",
   "metadata": {},
   "outputs": [
    {
     "name": "stdin",
     "output_type": "stream",
     "text": [
      "Once deleted, variables cannot be recovered. Proceed (y/[n])?  y\n"
     ]
    }
   ],
   "source": [
    "%reset"
   ]
  },
  {
   "cell_type": "code",
   "execution_count": 49,
   "id": "6dc28f28-e3d8-494e-a74c-f45c61a069e2",
   "metadata": {},
   "outputs": [
    {
     "name": "stdout",
     "output_type": "stream",
     "text": [
      "Interactive namespace is empty.\n"
     ]
    }
   ],
   "source": [
    "%whos"
   ]
  },
  {
   "cell_type": "code",
   "execution_count": 50,
   "id": "c1e01160-d13b-40b3-aa55-92cd7c02acbf",
   "metadata": {
    "collapsed": true,
    "jupyter": {
     "outputs_hidden": true
    },
    "tags": []
   },
   "outputs": [
    {
     "name": "stdout",
     "output_type": "stream",
     "text": [
      "help(a)\n",
      "a = 10\n",
      "help(a)\n",
      "a?\n",
      "import numpy as np\n",
      "np.exp\n",
      "help(np.exp)   # docstrings\n",
      "%lsmagic\n",
      "%ls\n",
      "%ls\n",
      "%whos\n",
      "del a\n",
      "%whos\n",
      "%%writefile add.py\n",
      "\n",
      "def add(x:int, y:int) -> int:\n",
      "    \"\"\"add()는 두 수를 더한 결과를 반환한다.\n",
      "    \"\"\"\n",
      "    return x+y\n",
      "\n",
      "print(add(100, 20))\n",
      "%ls add.py\n",
      "%pycat add.py\n",
      "%%writefile add.py\n",
      "\n",
      "def add(x:int, y:int) -> int:\n",
      "    return x+y\n",
      "\n",
      "print(\"result\", add(100, 20))\n",
      "%pycat add.py\n",
      "%%writefile -a add.py\n",
      "\n",
      "def add(x:int, y:int) -> int:\n",
      "    return x+y\n",
      "\n",
      "print(add(100, 20))\n",
      "%pycat add.py\n",
      "%%writefile -a add.py\n",
      "\n",
      "def add(x:int, y:int) -> int:\n",
      "    return x+y\n",
      "    \"\"\"add()는 두 수를 더한 결과를 반환한다.\n",
      "    \"\"\"\n",
      "print(add(100, 20))\n",
      "%pycat add.py\n",
      "%%writefile add.py\n",
      "\n",
      "def add(x:int, y:int) -> int:\n",
      "    \"\"\"add()는 두 수를 더한 결과를 반환한다.\n",
      "    \"\"\"\n",
      "    return x+y\n",
      "\n",
      "print(add(100, 20))\n",
      "%pycat add.py\n",
      "%ls add.py\n",
      "%run add.py\n",
      "! dir\n",
      "! help\n",
      "##디렉토리\n",
      "%ㅔㅈㅇ\n",
      "%pwd\n",
      "%ls\n",
      "%cd ..\n",
      "%pwd\n",
      "%ls\n",
      "%cd pythondata\n",
      "%pwd\n",
      "%mkdir test\n",
      "%mkdir test\n",
      "%ls test\n",
      "!mkdir test2\n",
      "%ls\n",
      "#디렉토리 지우기\n",
      "%rmdir test\n",
      "%ls\n",
      "%ren test2 test3\n",
      "%ls\n",
      "%history\n",
      "%reset\n",
      "%whos\n",
      "%history\n"
     ]
    }
   ],
   "source": [
    "%history"
   ]
  },
  {
   "cell_type": "markdown",
   "id": "60f8e7b7-ac13-4083-8c46-38441873809f",
   "metadata": {},
   "source": [
    "### ex) 외부명령 실행 결과 저장하는 방법 찾아보세요!!!"
   ]
  },
  {
   "cell_type": "code",
   "execution_count": null,
   "id": "194ba128-6688-4743-bfd3-c08fc17cb7a8",
   "metadata": {},
   "outputs": [],
   "source": []
  },
  {
   "cell_type": "code",
   "execution_count": null,
   "id": "38611fdf-369c-4dc7-8b7c-1df57fdc3271",
   "metadata": {},
   "outputs": [],
   "source": []
  },
  {
   "cell_type": "code",
   "execution_count": null,
   "id": "04616778-ab35-4451-8ea0-bf7d90e50645",
   "metadata": {},
   "outputs": [],
   "source": []
  },
  {
   "cell_type": "markdown",
   "id": "3ba71c6d-c85c-4e38-9d74-f76dbcea5969",
   "metadata": {},
   "source": [
    "## 수행시간 프로파일링\n",
    "\n",
    " - `%time`: 코드를 한번 수행되는 시간\n",
    " - `%timeit` , `%%timeit`: 코드를 여러번 수행해 평균을 측정"
   ]
  },
  {
   "cell_type": "code",
   "execution_count": null,
   "id": "d4ada280-8942-4660-be79-571bfcbad441",
   "metadata": {},
   "outputs": [],
   "source": [
    "import time\n",
    "\n",
    "# -시간 측정 -> 시작시간\n",
    "\n",
    "# 시작\n",
    "\n",
    "#실행\n",
    "\n",
    "#종료\n",
    "\n",
    "# - 시간 측정 -> 종료시간\n",
    "# 종료시간 - 시작시간 = 시간"
   ]
  },
  {
   "cell_type": "code",
   "execution_count": 52,
   "id": "5da43163-9e86-4489-9dea-29b85fe317df",
   "metadata": {},
   "outputs": [],
   "source": [
    "from collections import deque"
   ]
  },
  {
   "cell_type": "code",
   "execution_count": null,
   "id": "32c1a7f3-0ac5-432d-b60b-1d7332ee9c30",
   "metadata": {},
   "outputs": [],
   "source": [
    "%time"
   ]
  },
  {
   "cell_type": "markdown",
   "id": "4493e420-7a46-4a15-bee1-df7658b58b03",
   "metadata": {},
   "source": [
    "### `%time` 과 `%%time`\n",
    "\n",
    "코드가 한번 실행하는 수행시간을 측정 \n",
    " - wall time : 시작 - cpu time - 종료/측정"
   ]
  },
  {
   "cell_type": "code",
   "execution_count": 51,
   "id": "777ce976-2553-4d2e-85af-ed19f635022f",
   "metadata": {},
   "outputs": [
    {
     "name": "stdout",
     "output_type": "stream",
     "text": [
      "CPU times: total: 0 ns\n",
      "Wall time: 974 µs\n"
     ]
    },
    {
     "data": {
      "text/plain": [
       "340282366920938463463374607431768211456"
      ]
     },
     "execution_count": 51,
     "metadata": {},
     "output_type": "execute_result"
    }
   ],
   "source": [
    "%time 2**128"
   ]
  },
  {
   "cell_type": "code",
   "execution_count": 55,
   "id": "911f5760-1442-4247-b2ae-f7a6095a500d",
   "metadata": {},
   "outputs": [
    {
     "data": {
      "text/plain": [
       "range(0, 1000)"
      ]
     },
     "execution_count": 55,
     "metadata": {},
     "output_type": "execute_result"
    }
   ],
   "source": [
    "range(1000)"
   ]
  },
  {
   "cell_type": "code",
   "execution_count": null,
   "id": "d2a135f1-c607-4d50-a1d4-cc994d8992d0",
   "metadata": {},
   "outputs": [],
   "source": [
    "help"
   ]
  },
  {
   "cell_type": "code",
   "execution_count": 56,
   "id": "346caefe-c556-403a-87d0-729660eeb873",
   "metadata": {
    "collapsed": true,
    "jupyter": {
     "outputs_hidden": true
    },
    "tags": []
   },
   "outputs": [
    {
     "name": "stdout",
     "output_type": "stream",
     "text": [
      "CPU times: total: 15.6 ms\n",
      "Wall time: 5.39 ms\n"
     ]
    },
    {
     "data": {
      "text/plain": [
       "deque([0,\n",
       "       1,\n",
       "       2,\n",
       "       3,\n",
       "       4,\n",
       "       5,\n",
       "       6,\n",
       "       7,\n",
       "       8,\n",
       "       9,\n",
       "       10,\n",
       "       11,\n",
       "       12,\n",
       "       13,\n",
       "       14,\n",
       "       15,\n",
       "       16,\n",
       "       17,\n",
       "       18,\n",
       "       19,\n",
       "       20,\n",
       "       21,\n",
       "       22,\n",
       "       23,\n",
       "       24,\n",
       "       25,\n",
       "       26,\n",
       "       27,\n",
       "       28,\n",
       "       29,\n",
       "       30,\n",
       "       31,\n",
       "       32,\n",
       "       33,\n",
       "       34,\n",
       "       35,\n",
       "       36,\n",
       "       37,\n",
       "       38,\n",
       "       39,\n",
       "       40,\n",
       "       41,\n",
       "       42,\n",
       "       43,\n",
       "       44,\n",
       "       45,\n",
       "       46,\n",
       "       47,\n",
       "       48,\n",
       "       49,\n",
       "       50,\n",
       "       51,\n",
       "       52,\n",
       "       53,\n",
       "       54,\n",
       "       55,\n",
       "       56,\n",
       "       57,\n",
       "       58,\n",
       "       59,\n",
       "       60,\n",
       "       61,\n",
       "       62,\n",
       "       63,\n",
       "       64,\n",
       "       65,\n",
       "       66,\n",
       "       67,\n",
       "       68,\n",
       "       69,\n",
       "       70,\n",
       "       71,\n",
       "       72,\n",
       "       73,\n",
       "       74,\n",
       "       75,\n",
       "       76,\n",
       "       77,\n",
       "       78,\n",
       "       79,\n",
       "       80,\n",
       "       81,\n",
       "       82,\n",
       "       83,\n",
       "       84,\n",
       "       85,\n",
       "       86,\n",
       "       87,\n",
       "       88,\n",
       "       89,\n",
       "       90,\n",
       "       91,\n",
       "       92,\n",
       "       93,\n",
       "       94,\n",
       "       95,\n",
       "       96,\n",
       "       97,\n",
       "       98,\n",
       "       99,\n",
       "       100,\n",
       "       101,\n",
       "       102,\n",
       "       103,\n",
       "       104,\n",
       "       105,\n",
       "       106,\n",
       "       107,\n",
       "       108,\n",
       "       109,\n",
       "       110,\n",
       "       111,\n",
       "       112,\n",
       "       113,\n",
       "       114,\n",
       "       115,\n",
       "       116,\n",
       "       117,\n",
       "       118,\n",
       "       119,\n",
       "       120,\n",
       "       121,\n",
       "       122,\n",
       "       123,\n",
       "       124,\n",
       "       125,\n",
       "       126,\n",
       "       127,\n",
       "       128,\n",
       "       129,\n",
       "       130,\n",
       "       131,\n",
       "       132,\n",
       "       133,\n",
       "       134,\n",
       "       135,\n",
       "       136,\n",
       "       137,\n",
       "       138,\n",
       "       139,\n",
       "       140,\n",
       "       141,\n",
       "       142,\n",
       "       143,\n",
       "       144,\n",
       "       145,\n",
       "       146,\n",
       "       147,\n",
       "       148,\n",
       "       149,\n",
       "       150,\n",
       "       151,\n",
       "       152,\n",
       "       153,\n",
       "       154,\n",
       "       155,\n",
       "       156,\n",
       "       157,\n",
       "       158,\n",
       "       159,\n",
       "       160,\n",
       "       161,\n",
       "       162,\n",
       "       163,\n",
       "       164,\n",
       "       165,\n",
       "       166,\n",
       "       167,\n",
       "       168,\n",
       "       169,\n",
       "       170,\n",
       "       171,\n",
       "       172,\n",
       "       173,\n",
       "       174,\n",
       "       175,\n",
       "       176,\n",
       "       177,\n",
       "       178,\n",
       "       179,\n",
       "       180,\n",
       "       181,\n",
       "       182,\n",
       "       183,\n",
       "       184,\n",
       "       185,\n",
       "       186,\n",
       "       187,\n",
       "       188,\n",
       "       189,\n",
       "       190,\n",
       "       191,\n",
       "       192,\n",
       "       193,\n",
       "       194,\n",
       "       195,\n",
       "       196,\n",
       "       197,\n",
       "       198,\n",
       "       199,\n",
       "       200,\n",
       "       201,\n",
       "       202,\n",
       "       203,\n",
       "       204,\n",
       "       205,\n",
       "       206,\n",
       "       207,\n",
       "       208,\n",
       "       209,\n",
       "       210,\n",
       "       211,\n",
       "       212,\n",
       "       213,\n",
       "       214,\n",
       "       215,\n",
       "       216,\n",
       "       217,\n",
       "       218,\n",
       "       219,\n",
       "       220,\n",
       "       221,\n",
       "       222,\n",
       "       223,\n",
       "       224,\n",
       "       225,\n",
       "       226,\n",
       "       227,\n",
       "       228,\n",
       "       229,\n",
       "       230,\n",
       "       231,\n",
       "       232,\n",
       "       233,\n",
       "       234,\n",
       "       235,\n",
       "       236,\n",
       "       237,\n",
       "       238,\n",
       "       239,\n",
       "       240,\n",
       "       241,\n",
       "       242,\n",
       "       243,\n",
       "       244,\n",
       "       245,\n",
       "       246,\n",
       "       247,\n",
       "       248,\n",
       "       249,\n",
       "       250,\n",
       "       251,\n",
       "       252,\n",
       "       253,\n",
       "       254,\n",
       "       255,\n",
       "       256,\n",
       "       257,\n",
       "       258,\n",
       "       259,\n",
       "       260,\n",
       "       261,\n",
       "       262,\n",
       "       263,\n",
       "       264,\n",
       "       265,\n",
       "       266,\n",
       "       267,\n",
       "       268,\n",
       "       269,\n",
       "       270,\n",
       "       271,\n",
       "       272,\n",
       "       273,\n",
       "       274,\n",
       "       275,\n",
       "       276,\n",
       "       277,\n",
       "       278,\n",
       "       279,\n",
       "       280,\n",
       "       281,\n",
       "       282,\n",
       "       283,\n",
       "       284,\n",
       "       285,\n",
       "       286,\n",
       "       287,\n",
       "       288,\n",
       "       289,\n",
       "       290,\n",
       "       291,\n",
       "       292,\n",
       "       293,\n",
       "       294,\n",
       "       295,\n",
       "       296,\n",
       "       297,\n",
       "       298,\n",
       "       299,\n",
       "       300,\n",
       "       301,\n",
       "       302,\n",
       "       303,\n",
       "       304,\n",
       "       305,\n",
       "       306,\n",
       "       307,\n",
       "       308,\n",
       "       309,\n",
       "       310,\n",
       "       311,\n",
       "       312,\n",
       "       313,\n",
       "       314,\n",
       "       315,\n",
       "       316,\n",
       "       317,\n",
       "       318,\n",
       "       319,\n",
       "       320,\n",
       "       321,\n",
       "       322,\n",
       "       323,\n",
       "       324,\n",
       "       325,\n",
       "       326,\n",
       "       327,\n",
       "       328,\n",
       "       329,\n",
       "       330,\n",
       "       331,\n",
       "       332,\n",
       "       333,\n",
       "       334,\n",
       "       335,\n",
       "       336,\n",
       "       337,\n",
       "       338,\n",
       "       339,\n",
       "       340,\n",
       "       341,\n",
       "       342,\n",
       "       343,\n",
       "       344,\n",
       "       345,\n",
       "       346,\n",
       "       347,\n",
       "       348,\n",
       "       349,\n",
       "       350,\n",
       "       351,\n",
       "       352,\n",
       "       353,\n",
       "       354,\n",
       "       355,\n",
       "       356,\n",
       "       357,\n",
       "       358,\n",
       "       359,\n",
       "       360,\n",
       "       361,\n",
       "       362,\n",
       "       363,\n",
       "       364,\n",
       "       365,\n",
       "       366,\n",
       "       367,\n",
       "       368,\n",
       "       369,\n",
       "       370,\n",
       "       371,\n",
       "       372,\n",
       "       373,\n",
       "       374,\n",
       "       375,\n",
       "       376,\n",
       "       377,\n",
       "       378,\n",
       "       379,\n",
       "       380,\n",
       "       381,\n",
       "       382,\n",
       "       383,\n",
       "       384,\n",
       "       385,\n",
       "       386,\n",
       "       387,\n",
       "       388,\n",
       "       389,\n",
       "       390,\n",
       "       391,\n",
       "       392,\n",
       "       393,\n",
       "       394,\n",
       "       395,\n",
       "       396,\n",
       "       397,\n",
       "       398,\n",
       "       399,\n",
       "       400,\n",
       "       401,\n",
       "       402,\n",
       "       403,\n",
       "       404,\n",
       "       405,\n",
       "       406,\n",
       "       407,\n",
       "       408,\n",
       "       409,\n",
       "       410,\n",
       "       411,\n",
       "       412,\n",
       "       413,\n",
       "       414,\n",
       "       415,\n",
       "       416,\n",
       "       417,\n",
       "       418,\n",
       "       419,\n",
       "       420,\n",
       "       421,\n",
       "       422,\n",
       "       423,\n",
       "       424,\n",
       "       425,\n",
       "       426,\n",
       "       427,\n",
       "       428,\n",
       "       429,\n",
       "       430,\n",
       "       431,\n",
       "       432,\n",
       "       433,\n",
       "       434,\n",
       "       435,\n",
       "       436,\n",
       "       437,\n",
       "       438,\n",
       "       439,\n",
       "       440,\n",
       "       441,\n",
       "       442,\n",
       "       443,\n",
       "       444,\n",
       "       445,\n",
       "       446,\n",
       "       447,\n",
       "       448,\n",
       "       449,\n",
       "       450,\n",
       "       451,\n",
       "       452,\n",
       "       453,\n",
       "       454,\n",
       "       455,\n",
       "       456,\n",
       "       457,\n",
       "       458,\n",
       "       459,\n",
       "       460,\n",
       "       461,\n",
       "       462,\n",
       "       463,\n",
       "       464,\n",
       "       465,\n",
       "       466,\n",
       "       467,\n",
       "       468,\n",
       "       469,\n",
       "       470,\n",
       "       471,\n",
       "       472,\n",
       "       473,\n",
       "       474,\n",
       "       475,\n",
       "       476,\n",
       "       477,\n",
       "       478,\n",
       "       479,\n",
       "       480,\n",
       "       481,\n",
       "       482,\n",
       "       483,\n",
       "       484,\n",
       "       485,\n",
       "       486,\n",
       "       487,\n",
       "       488,\n",
       "       489,\n",
       "       490,\n",
       "       491,\n",
       "       492,\n",
       "       493,\n",
       "       494,\n",
       "       495,\n",
       "       496,\n",
       "       497,\n",
       "       498,\n",
       "       499,\n",
       "       500,\n",
       "       501,\n",
       "       502,\n",
       "       503,\n",
       "       504,\n",
       "       505,\n",
       "       506,\n",
       "       507,\n",
       "       508,\n",
       "       509,\n",
       "       510,\n",
       "       511,\n",
       "       512,\n",
       "       513,\n",
       "       514,\n",
       "       515,\n",
       "       516,\n",
       "       517,\n",
       "       518,\n",
       "       519,\n",
       "       520,\n",
       "       521,\n",
       "       522,\n",
       "       523,\n",
       "       524,\n",
       "       525,\n",
       "       526,\n",
       "       527,\n",
       "       528,\n",
       "       529,\n",
       "       530,\n",
       "       531,\n",
       "       532,\n",
       "       533,\n",
       "       534,\n",
       "       535,\n",
       "       536,\n",
       "       537,\n",
       "       538,\n",
       "       539,\n",
       "       540,\n",
       "       541,\n",
       "       542,\n",
       "       543,\n",
       "       544,\n",
       "       545,\n",
       "       546,\n",
       "       547,\n",
       "       548,\n",
       "       549,\n",
       "       550,\n",
       "       551,\n",
       "       552,\n",
       "       553,\n",
       "       554,\n",
       "       555,\n",
       "       556,\n",
       "       557,\n",
       "       558,\n",
       "       559,\n",
       "       560,\n",
       "       561,\n",
       "       562,\n",
       "       563,\n",
       "       564,\n",
       "       565,\n",
       "       566,\n",
       "       567,\n",
       "       568,\n",
       "       569,\n",
       "       570,\n",
       "       571,\n",
       "       572,\n",
       "       573,\n",
       "       574,\n",
       "       575,\n",
       "       576,\n",
       "       577,\n",
       "       578,\n",
       "       579,\n",
       "       580,\n",
       "       581,\n",
       "       582,\n",
       "       583,\n",
       "       584,\n",
       "       585,\n",
       "       586,\n",
       "       587,\n",
       "       588,\n",
       "       589,\n",
       "       590,\n",
       "       591,\n",
       "       592,\n",
       "       593,\n",
       "       594,\n",
       "       595,\n",
       "       596,\n",
       "       597,\n",
       "       598,\n",
       "       599,\n",
       "       600,\n",
       "       601,\n",
       "       602,\n",
       "       603,\n",
       "       604,\n",
       "       605,\n",
       "       606,\n",
       "       607,\n",
       "       608,\n",
       "       609,\n",
       "       610,\n",
       "       611,\n",
       "       612,\n",
       "       613,\n",
       "       614,\n",
       "       615,\n",
       "       616,\n",
       "       617,\n",
       "       618,\n",
       "       619,\n",
       "       620,\n",
       "       621,\n",
       "       622,\n",
       "       623,\n",
       "       624,\n",
       "       625,\n",
       "       626,\n",
       "       627,\n",
       "       628,\n",
       "       629,\n",
       "       630,\n",
       "       631,\n",
       "       632,\n",
       "       633,\n",
       "       634,\n",
       "       635,\n",
       "       636,\n",
       "       637,\n",
       "       638,\n",
       "       639,\n",
       "       640,\n",
       "       641,\n",
       "       642,\n",
       "       643,\n",
       "       644,\n",
       "       645,\n",
       "       646,\n",
       "       647,\n",
       "       648,\n",
       "       649,\n",
       "       650,\n",
       "       651,\n",
       "       652,\n",
       "       653,\n",
       "       654,\n",
       "       655,\n",
       "       656,\n",
       "       657,\n",
       "       658,\n",
       "       659,\n",
       "       660,\n",
       "       661,\n",
       "       662,\n",
       "       663,\n",
       "       664,\n",
       "       665,\n",
       "       666,\n",
       "       667,\n",
       "       668,\n",
       "       669,\n",
       "       670,\n",
       "       671,\n",
       "       672,\n",
       "       673,\n",
       "       674,\n",
       "       675,\n",
       "       676,\n",
       "       677,\n",
       "       678,\n",
       "       679,\n",
       "       680,\n",
       "       681,\n",
       "       682,\n",
       "       683,\n",
       "       684,\n",
       "       685,\n",
       "       686,\n",
       "       687,\n",
       "       688,\n",
       "       689,\n",
       "       690,\n",
       "       691,\n",
       "       692,\n",
       "       693,\n",
       "       694,\n",
       "       695,\n",
       "       696,\n",
       "       697,\n",
       "       698,\n",
       "       699,\n",
       "       700,\n",
       "       701,\n",
       "       702,\n",
       "       703,\n",
       "       704,\n",
       "       705,\n",
       "       706,\n",
       "       707,\n",
       "       708,\n",
       "       709,\n",
       "       710,\n",
       "       711,\n",
       "       712,\n",
       "       713,\n",
       "       714,\n",
       "       715,\n",
       "       716,\n",
       "       717,\n",
       "       718,\n",
       "       719,\n",
       "       720,\n",
       "       721,\n",
       "       722,\n",
       "       723,\n",
       "       724,\n",
       "       725,\n",
       "       726,\n",
       "       727,\n",
       "       728,\n",
       "       729,\n",
       "       730,\n",
       "       731,\n",
       "       732,\n",
       "       733,\n",
       "       734,\n",
       "       735,\n",
       "       736,\n",
       "       737,\n",
       "       738,\n",
       "       739,\n",
       "       740,\n",
       "       741,\n",
       "       742,\n",
       "       743,\n",
       "       744,\n",
       "       745,\n",
       "       746,\n",
       "       747,\n",
       "       748,\n",
       "       749,\n",
       "       750,\n",
       "       751,\n",
       "       752,\n",
       "       753,\n",
       "       754,\n",
       "       755,\n",
       "       756,\n",
       "       757,\n",
       "       758,\n",
       "       759,\n",
       "       760,\n",
       "       761,\n",
       "       762,\n",
       "       763,\n",
       "       764,\n",
       "       765,\n",
       "       766,\n",
       "       767,\n",
       "       768,\n",
       "       769,\n",
       "       770,\n",
       "       771,\n",
       "       772,\n",
       "       773,\n",
       "       774,\n",
       "       775,\n",
       "       776,\n",
       "       777,\n",
       "       778,\n",
       "       779,\n",
       "       780,\n",
       "       781,\n",
       "       782,\n",
       "       783,\n",
       "       784,\n",
       "       785,\n",
       "       786,\n",
       "       787,\n",
       "       788,\n",
       "       789,\n",
       "       790,\n",
       "       791,\n",
       "       792,\n",
       "       793,\n",
       "       794,\n",
       "       795,\n",
       "       796,\n",
       "       797,\n",
       "       798,\n",
       "       799,\n",
       "       800,\n",
       "       801,\n",
       "       802,\n",
       "       803,\n",
       "       804,\n",
       "       805,\n",
       "       806,\n",
       "       807,\n",
       "       808,\n",
       "       809,\n",
       "       810,\n",
       "       811,\n",
       "       812,\n",
       "       813,\n",
       "       814,\n",
       "       815,\n",
       "       816,\n",
       "       817,\n",
       "       818,\n",
       "       819,\n",
       "       820,\n",
       "       821,\n",
       "       822,\n",
       "       823,\n",
       "       824,\n",
       "       825,\n",
       "       826,\n",
       "       827,\n",
       "       828,\n",
       "       829,\n",
       "       830,\n",
       "       831,\n",
       "       832,\n",
       "       833,\n",
       "       834,\n",
       "       835,\n",
       "       836,\n",
       "       837,\n",
       "       838,\n",
       "       839,\n",
       "       840,\n",
       "       841,\n",
       "       842,\n",
       "       843,\n",
       "       844,\n",
       "       845,\n",
       "       846,\n",
       "       847,\n",
       "       848,\n",
       "       849,\n",
       "       850,\n",
       "       851,\n",
       "       852,\n",
       "       853,\n",
       "       854,\n",
       "       855,\n",
       "       856,\n",
       "       857,\n",
       "       858,\n",
       "       859,\n",
       "       860,\n",
       "       861,\n",
       "       862,\n",
       "       863,\n",
       "       864,\n",
       "       865,\n",
       "       866,\n",
       "       867,\n",
       "       868,\n",
       "       869,\n",
       "       870,\n",
       "       871,\n",
       "       872,\n",
       "       873,\n",
       "       874,\n",
       "       875,\n",
       "       876,\n",
       "       877,\n",
       "       878,\n",
       "       879,\n",
       "       880,\n",
       "       881,\n",
       "       882,\n",
       "       883,\n",
       "       884,\n",
       "       885,\n",
       "       886,\n",
       "       887,\n",
       "       888,\n",
       "       889,\n",
       "       890,\n",
       "       891,\n",
       "       892,\n",
       "       893,\n",
       "       894,\n",
       "       895,\n",
       "       896,\n",
       "       897,\n",
       "       898,\n",
       "       899,\n",
       "       900,\n",
       "       901,\n",
       "       902,\n",
       "       903,\n",
       "       904,\n",
       "       905,\n",
       "       906,\n",
       "       907,\n",
       "       908,\n",
       "       909,\n",
       "       910,\n",
       "       911,\n",
       "       912,\n",
       "       913,\n",
       "       914,\n",
       "       915,\n",
       "       916,\n",
       "       917,\n",
       "       918,\n",
       "       919,\n",
       "       920,\n",
       "       921,\n",
       "       922,\n",
       "       923,\n",
       "       924,\n",
       "       925,\n",
       "       926,\n",
       "       927,\n",
       "       928,\n",
       "       929,\n",
       "       930,\n",
       "       931,\n",
       "       932,\n",
       "       933,\n",
       "       934,\n",
       "       935,\n",
       "       936,\n",
       "       937,\n",
       "       938,\n",
       "       939,\n",
       "       940,\n",
       "       941,\n",
       "       942,\n",
       "       943,\n",
       "       944,\n",
       "       945,\n",
       "       946,\n",
       "       947,\n",
       "       948,\n",
       "       949,\n",
       "       950,\n",
       "       951,\n",
       "       952,\n",
       "       953,\n",
       "       954,\n",
       "       955,\n",
       "       956,\n",
       "       957,\n",
       "       958,\n",
       "       959,\n",
       "       960,\n",
       "       961,\n",
       "       962,\n",
       "       963,\n",
       "       964,\n",
       "       965,\n",
       "       966,\n",
       "       967,\n",
       "       968,\n",
       "       969,\n",
       "       970,\n",
       "       971,\n",
       "       972,\n",
       "       973,\n",
       "       974,\n",
       "       975,\n",
       "       976,\n",
       "       977,\n",
       "       978,\n",
       "       979,\n",
       "       980,\n",
       "       981,\n",
       "       982,\n",
       "       983,\n",
       "       984,\n",
       "       985,\n",
       "       986,\n",
       "       987,\n",
       "       988,\n",
       "       989,\n",
       "       990,\n",
       "       991,\n",
       "       992,\n",
       "       993,\n",
       "       994,\n",
       "       995,\n",
       "       996,\n",
       "       997,\n",
       "       998,\n",
       "       999])"
      ]
     },
     "execution_count": 56,
     "metadata": {},
     "output_type": "execute_result"
    }
   ],
   "source": [
    "%time deque([i for i in range(1000)])"
   ]
  },
  {
   "cell_type": "code",
   "execution_count": 57,
   "id": "d39acd76-7ee4-4a07-91dc-06438d1d768b",
   "metadata": {},
   "outputs": [
    {
     "name": "stdout",
     "output_type": "stream",
     "text": [
      "CPU times: total: 0 ns\n",
      "Wall time: 0 ns\n"
     ]
    },
    {
     "data": {
      "text/plain": [
       "2887486040769661481161461427129979239004267205232114462114206749052632765017864687948673930619775308487843948551963894916218641856531735194156700043907525463543623651215556307514610402015250335929449787136113125281626424885680773715912472709987923735752701759338378906250000000000000000000000000000000000000000000000000000000000000000000000000000000000000000000000000000"
      ]
     },
     "execution_count": 57,
     "metadata": {},
     "output_type": "execute_result"
    }
   ],
   "source": [
    "%time sum(range(100)) ** 100"
   ]
  },
  {
   "cell_type": "code",
   "execution_count": 59,
   "id": "afc05683-411d-4ece-b47c-7f966f8df652",
   "metadata": {},
   "outputs": [
    {
     "name": "stdout",
     "output_type": "stream",
     "text": [
      "CPU times: total: 0 ns\n",
      "Wall time: 0 ns\n"
     ]
    },
    {
     "data": {
      "text/plain": [
       "49995000"
      ]
     },
     "execution_count": 59,
     "metadata": {},
     "output_type": "execute_result"
    }
   ],
   "source": [
    "%%time\n",
    "sum(range(100))\n",
    "sum(range(1000))\n",
    "sum(range(10000))"
   ]
  },
  {
   "cell_type": "markdown",
   "id": "1cca44cb-d022-415d-b1fe-dd13ebca0603",
   "metadata": {},
   "source": [
    "### `%timeit` 과 `%%timeit`\n",
    "\n",
    "코드를 여러번 수행한 평균 시간을 측정"
   ]
  },
  {
   "cell_type": "code",
   "execution_count": 60,
   "id": "7465c3e1-0606-48a1-baa7-4a6a998243b4",
   "metadata": {},
   "outputs": [
    {
     "name": "stdout",
     "output_type": "stream",
     "text": [
      "14.1 µs ± 692 ns per loop (mean ± std. dev. of 7 runs, 100,000 loops each)\n"
     ]
    }
   ],
   "source": [
    "%%timeit\n",
    "sum(range(100))\n",
    "sum(range(1000))"
   ]
  },
  {
   "cell_type": "code",
   "execution_count": null,
   "id": "cf5ba067-a8e5-4751-81e1-2d5ee7015213",
   "metadata": {},
   "outputs": [],
   "source": []
  },
  {
   "cell_type": "code",
   "execution_count": 61,
   "id": "efb2ad7f-4f1c-4145-90e5-b9d0bde664f6",
   "metadata": {},
   "outputs": [],
   "source": [
    "import numpy as np"
   ]
  },
  {
   "cell_type": "code",
   "execution_count": 62,
   "id": "84b3f556-638f-4f7b-bffb-dbedd5f54c3e",
   "metadata": {},
   "outputs": [
    {
     "name": "stdout",
     "output_type": "stream",
     "text": [
      "6.03 µs ± 687 ns per loop (mean ± std. dev. of 7 runs, 100,000 loops each)\n"
     ]
    }
   ],
   "source": [
    "%timeit np.sum(1000)"
   ]
  },
  {
   "cell_type": "code",
   "execution_count": null,
   "id": "849e8e63-323b-4a04-bb5a-d365f112cb8f",
   "metadata": {},
   "outputs": [],
   "source": [
    "%%timeit ["
   ]
  },
  {
   "cell_type": "code",
   "execution_count": 63,
   "id": "b5b143e2-5823-4fe7-830e-6ad7eaed2faf",
   "metadata": {},
   "outputs": [
    {
     "name": "stdout",
     "output_type": "stream",
     "text": [
      "3.63 µs ± 324 ns per loop (mean ± std. dev. of 7 runs, 100,000 loops each)\n",
      "352 µs ± 21.4 µs per loop (mean ± std. dev. of 7 runs, 1,000 loops each)\n",
      "72.7 ms ± 7.22 ms per loop (mean ± std. dev. of 7 runs, 10 loops each)\n",
      "8.28 s ± 1.43 s per loop (mean ± std. dev. of 7 runs, 1 loop each)\n"
     ]
    }
   ],
   "source": [
    "%timeit deque([i for i in range(100)])\n",
    "%timeit deque([i for i in range(10000)])\n",
    "%timeit deque([i for i in range(1000000)])\n",
    "%timeit deque([i for i in range(100000000)])"
   ]
  },
  {
   "cell_type": "code",
   "execution_count": 64,
   "id": "8b69a831-c397-4e82-96ce-130677378398",
   "metadata": {},
   "outputs": [
    {
     "name": "stdout",
     "output_type": "stream",
     "text": [
      "4.09 µs ± 311 ns per loop (mean ± std. dev. of 7 runs, 100,000 loops each)\n",
      "468 µs ± 31.8 µs per loop (mean ± std. dev. of 7 runs, 1,000 loops each)\n",
      "51.8 ms ± 2.08 ms per loop (mean ± std. dev. of 7 runs, 10 loops each)\n",
      "6.36 s ± 234 ms per loop (mean ± std. dev. of 7 runs, 1 loop each)\n"
     ]
    }
   ],
   "source": [
    "%timeit deque(i for i in range(100))\n",
    "%timeit deque(i for i in range(10000))\n",
    "%timeit deque(i for i in range(1000000))\n",
    "%timeit deque(i for i in range(100000000))"
   ]
  },
  {
   "cell_type": "code",
   "execution_count": 65,
   "id": "25922ccd-3417-49ec-a71a-1865855525f3",
   "metadata": {},
   "outputs": [
    {
     "name": "stdout",
     "output_type": "stream",
     "text": [
      "718 ns ± 31.6 ns per loop (mean ± std. dev. of 7 runs, 1,000,000 loops each)\n",
      "149 µs ± 10.1 µs per loop (mean ± std. dev. of 7 runs, 10,000 loops each)\n",
      "24.8 ms ± 2.06 ms per loop (mean ± std. dev. of 7 runs, 10 loops each)\n",
      "3.03 s ± 107 ms per loop (mean ± std. dev. of 7 runs, 1 loop each)\n"
     ]
    }
   ],
   "source": [
    "%timeit deque(range(100))\n",
    "%timeit deque(range(10000))\n",
    "%timeit deque(range(1000000))\n",
    "%timeit deque(range(100000000))"
   ]
  },
  {
   "cell_type": "code",
   "execution_count": 66,
   "id": "cc4c4c03-c0c4-45e0-9617-6453c736e08d",
   "metadata": {},
   "outputs": [
    {
     "name": "stdout",
     "output_type": "stream",
     "text": [
      "3.04 µs ± 220 ns per loop (mean ± std. dev. of 7 runs, 100,000 loops each)\n",
      "303 µs ± 26.6 µs per loop (mean ± std. dev. of 7 runs, 1,000 loops each)\n",
      "53.1 ms ± 7.48 ms per loop (mean ± std. dev. of 7 runs, 10 loops each)\n",
      "5.77 s ± 93.1 ms per loop (mean ± std. dev. of 7 runs, 1 loop each)\n"
     ]
    }
   ],
   "source": [
    "%timeit [i for i in range(100)]\n",
    "%timeit [i for i in range(10000)]\n",
    "%timeit [i for i in range(1000000)]\n",
    "%timeit [i for i in range(100000000)]"
   ]
  },
  {
   "cell_type": "code",
   "execution_count": 67,
   "id": "67681ea2-6e8b-4e73-8335-4cd282c4f601",
   "metadata": {},
   "outputs": [
    {
     "name": "stdout",
     "output_type": "stream",
     "text": [
      "841 ns ± 71 ns per loop (mean ± std. dev. of 7 runs, 1,000,000 loops each)\n",
      "124 µs ± 4.88 µs per loop (mean ± std. dev. of 7 runs, 10,000 loops each)\n",
      "22.3 ms ± 2.12 ms per loop (mean ± std. dev. of 7 runs, 10 loops each)\n",
      "2.44 s ± 131 ms per loop (mean ± std. dev. of 7 runs, 1 loop each)\n"
     ]
    }
   ],
   "source": [
    "%timeit list(range(100))\n",
    "%timeit list(range(10000))\n",
    "%timeit list(range(1000000))\n",
    "%timeit list(range(100000000))"
   ]
  },
  {
   "cell_type": "code",
   "execution_count": 68,
   "id": "a77e3437-693a-44fa-a373-0e709ff30379",
   "metadata": {},
   "outputs": [
    {
     "name": "stdout",
     "output_type": "stream",
     "text": [
      "2.59 s ± 119 ms per loop (mean ± std. dev. of 7 runs, 1 loop each)\n"
     ]
    }
   ],
   "source": [
    "%%timeit\n",
    "\n",
    "list(range(100))\n",
    "list(range(10000))\n",
    "list(range(1000000))\n",
    "list(range(100000000))"
   ]
  },
  {
   "cell_type": "markdown",
   "id": "27857e4a-3b23-4ecb-b31d-2561c7e2ec4c",
   "metadata": {},
   "source": [
    "### `%timeit` 의 옵션\n",
    "\n",
    "- `-n` : 한 루프당 몇 번 실행할 것인지 지정한다. 지정하지 않으면 알아서 적당히 충분히 정확한 데이터가 나올 정도로 실행함\n",
    "- `-r` : %timeit은 여러번 반복해서 그 평균값과 오차범위를 보여주는데, 몇 번 반복할 것인지를 지정할 수 있다.  기본값으로 7번 반복."
   ]
  },
  {
   "cell_type": "code",
   "execution_count": null,
   "id": "41a66fab-d351-4435-b92e-55efc7798cd1",
   "metadata": {},
   "outputs": [],
   "source": [
    "%%timeit -n 3 -r 3\n",
    "#  3(loops) * 3(runs)로 총 9번 실행이 된다\n",
    "\n",
    "list(range(100))\n",
    "list(range(10000))\n",
    "list(range(1000000))\n",
    "list(range(100000000))"
   ]
  },
  {
   "cell_type": "code",
   "execution_count": null,
   "id": "fa6624b8-8139-4959-abe1-fda8884cec0a",
   "metadata": {},
   "outputs": [],
   "source": [
    "%timeit -n 3 -r 3 sum(range(1000))"
   ]
  },
  {
   "cell_type": "code",
   "execution_count": null,
   "id": "de90d0e0-b208-44f5-99f4-32eb5cba6ae8",
   "metadata": {},
   "outputs": [],
   "source": [
    "%timeit -n 1 -r 3 sum(range(1000))"
   ]
  },
  {
   "cell_type": "markdown",
   "id": "99221f36-8731-42e2-bb1f-e3c3db1ada47",
   "metadata": {},
   "source": [
    " - `-t` : 시간계산에 time.time 모듈을 사용하게 된다. Unix 시스템에서 디폴트값이다\n",
    " - `-c` : 시간계산에 time.clock 모듈을 사용하게 된다. Windows 시스템에서 디폴트값이다. Unix시스템에서 이 옵션을 주면 Wall time(사람이 인지할 수 있는 시간) 대신 CPU time으로 계산된다\n",
    " - `-p` : 소숫점 몇자리까지 표시되는지 설정할 수 있다. 디폴트값은 3이다\n",
    " - `-q` : Quiet, 즉 결과값이 출력되지 않는다\n",
    " - `-o` : 결과를 TimeitResult객체로 반환한다"
   ]
  },
  {
   "cell_type": "code",
   "execution_count": null,
   "id": "d51e882b-21b3-4974-a244-692e559d6a8b",
   "metadata": {},
   "outputs": [],
   "source": []
  },
  {
   "cell_type": "markdown",
   "id": "9b15688f-f8d9-4980-8a09-f97364872687",
   "metadata": {},
   "source": [
    "# Markdown 사용\n",
    "\n",
    "https://guides.github.com/features/mastering-markdown/"
   ]
  },
  {
   "cell_type": "markdown",
   "id": "53471323-633e-4033-8356-29a29f3083b7",
   "metadata": {},
   "source": []
  },
  {
   "cell_type": "markdown",
   "id": "9e060e02-9ed3-481e-ab2c-4b39e290d04c",
   "metadata": {
    "tags": []
   },
   "source": [
    "## 헤딩\n",
    "\n",
    "`#` 으로 `<h>` 태그 표현\n",
    "\n",
    "\n",
    "\n",
    "```html\n",
    "<h1></h1>\n",
    "<h2></h2>\n",
    "<h3></h3>\n",
    "<h4></h4>\n",
    "<h5></h5>\n",
    "```\n"
   ]
  },
  {
   "cell_type": "markdown",
   "id": "34a9086d-76f8-4990-90c0-414a76ef8067",
   "metadata": {},
   "source": [
    "# 안녕1\n",
    "## 하세요2\n",
    "### 3\n",
    "#### 4\n",
    "##### 5"
   ]
  },
  {
   "cell_type": "markdown",
   "id": "4d3d6628-f43c-4544-a285-0d1366a5c4b8",
   "metadata": {},
   "source": [
    "<h1>안녕1</h1>\n",
    "<h2>하세요2</h2>"
   ]
  },
  {
   "cell_type": "markdown",
   "id": "8558956b-7921-492d-94cb-fbdf67bef8a8",
   "metadata": {},
   "source": [
    "<h1>안녕, 제목1</h1>"
   ]
  },
  {
   "cell_type": "markdown",
   "id": "4a308053-dccf-4ed3-8666-55c9a95e79e0",
   "metadata": {},
   "source": [
    "<h1>안녕, 제목1</h1>"
   ]
  },
  {
   "cell_type": "code",
   "execution_count": null,
   "id": "e996cc9e-2571-42bf-9214-610b6475a961",
   "metadata": {},
   "outputs": [],
   "source": [
    "<h2>안녕, 제목1</h2>"
   ]
  },
  {
   "cell_type": "markdown",
   "id": "93aca157-4d95-4e9d-83a8-b8bf7755d153",
   "metadata": {},
   "source": [
    "<h2>안녕, 제목2</h2>"
   ]
  },
  {
   "cell_type": "markdown",
   "id": "61b9cc23-3cc6-433d-9dee-0e9d3d19f858",
   "metadata": {},
   "source": [
    "## 텍스트 스타일\n",
    "\n",
    "```\n",
    "*안녕하세요*\n",
    "\n",
    "_안녕하세요_\n",
    "\n",
    "\n",
    "**안녕하세요**\n",
    "\n",
    "__안녕하세요__\n",
    "\n",
    "안녕하세요. **IoT** **_과정_** 여러분 ***반갑***습니다.\n",
    "```\n",
    "\n",
    "\n"
   ]
  },
  {
   "cell_type": "markdown",
   "id": "de3aff67-f11b-435e-930d-213488c6cec6",
   "metadata": {},
   "source": [
    "<i>안녕하세요</i>  <b>안녕하세요</b>  <u>안녕하세요</u>"
   ]
  },
  {
   "cell_type": "markdown",
   "id": "2a7e38bf-3faf-4b47-8a2e-64107a50ab6c",
   "metadata": {},
   "source": [
    "*안녕하세요*\n",
    "_안녕하세요_\n",
    "**안녕하세요**\n",
    "__안녕하세요__\n",
    "안녕하세요. **IoT** **_과정_** 여러분 ***반갑***습니다.\n",
    "```\n"
   ]
  },
  {
   "cell_type": "markdown",
   "id": "74aa4580-325e-496f-9358-9bf11c4e1471",
   "metadata": {
    "tags": []
   },
   "source": [
    "## 인용\n",
    "\n",
    "```\n",
    "> 인용은 해당 문서 내용중 외부에서 얻은 자료...\n",
    "자료....\n",
    "\n",
    ">인용은 해당 문서 내용중 외부에서\n",
    "> ```java\n",
    "> public class java {\n",
    "> \n",
    "> }\n",
    "> ```\n",
    "```"
   ]
  },
  {
   "cell_type": "markdown",
   "id": "dd0a0af5-3313-46ee-a009-b53b1a5f2815",
   "metadata": {},
   "source": [
    "> 인용은 해당 문서 내용중 외부에서 얻은 자료...\n",
    "<br>자료....\n",
    "입니다..."
   ]
  },
  {
   "cell_type": "markdown",
   "id": "cda1d3b6-7337-4e27-8e9d-eef682fba0ec",
   "metadata": {},
   "source": [
    ">인용은 해당 문서 내용중 외부에서\n",
    "> ```java\n",
    "> public class java {\n",
    "> \n",
    "> }\n",
    "> ```\n",
    "```"
   ]
  },
  {
   "cell_type": "markdown",
   "id": "5e5e2c5c-b5d5-40bb-b366-f299556cb3a2",
   "metadata": {},
   "source": [
    ">인용은 해당 문서 내용중 외부에서\n",
    "> ```java\n",
    "> public class java {\n",
    "> \n",
    "> }\n",
    "> ```\n",
    "```"
   ]
  },
  {
   "cell_type": "markdown",
   "id": "9b0aeaa6-6ca4-4f34-892c-a2269b686d8a",
   "metadata": {},
   "source": [
    "## 코드\n",
    "\n",
    "```\n",
    "def foo():\n",
    "    if not bar:\n",
    "        return True\n",
    "```\n"
   ]
  },
  {
   "cell_type": "markdown",
   "id": "0ccde2f1-891c-4daf-a55a-7684659703a8",
   "metadata": {},
   "source": [
    "```\n",
    "def foo():\n",
    "    if not bar:\n",
    "        return True\n",
    "```"
   ]
  },
  {
   "cell_type": "markdown",
   "id": "24479ff1-fbd4-4ac9-a9c0-f0f4cf5204ef",
   "metadata": {},
   "source": [
    "```<\n",
    "def foo():\n",
    "    if not bar:\n",
    "        return True\n",
    "```"
   ]
  },
  {
   "cell_type": "code",
   "execution_count": null,
   "id": "0f01e29a-3db2-4b88-8b14-d79b5d424ffa",
   "metadata": {},
   "outputs": [],
   "source": []
  },
  {
   "cell_type": "code",
   "execution_count": null,
   "id": "336accd2-e89e-42c4-86a1-7ef6776d72c5",
   "metadata": {},
   "outputs": [],
   "source": []
  },
  {
   "cell_type": "markdown",
   "id": "23bc71dc-91b2-4ce5-a05f-534e4a182ee0",
   "metadata": {},
   "source": [
    "## Syntax highlighting\n",
    "\n",
    "\n",
    "```python\n",
    "def foo():\n",
    "    if not bar:\n",
    "        return True\n",
    "```"
   ]
  },
  {
   "cell_type": "markdown",
   "id": "61a6c3be-8475-42c8-bd34-6621e522f936",
   "metadata": {},
   "source": [
    "## Syntax highlighting\n",
    "\n",
    "\n",
    "```Java\n",
    "def foo():\n",
    "    if not bar:\n",
    "        return True\n",
    "```"
   ]
  },
  {
   "cell_type": "markdown",
   "id": "33f8a76d-a8ac-467b-9c45-d0906753b8f1",
   "metadata": {},
   "source": [
    "## 링크\n",
    "\n",
    "```\n",
    "[서브1](./sub1.md)\n",
    "\n",
    "[서브1](sub1.md)\n",
    "\n",
    "[서브1](/day2/sub1.md)\n",
    "\n",
    "[깃헙](https://guides.github.com/features/mastering-markdown/)\n",
    "```\n",
    "\n",
    "a link\n",
    "\n",
    "```\n",
    "<a href=\"./sub1.md\">a link 서브1</a>\n",
    "```\n"
   ]
  },
  {
   "cell_type": "markdown",
   "id": "2be52248-76b2-434f-bbf9-bede7ae4e24b",
   "metadata": {},
   "source": [
    "[서브1](./sub1.md)\n",
    "\n",
    "[서브1](sub1.md)\n",
    "\n",
    "[서브1](/day2/sub1.md)\n",
    "\n",
    "[깃헙](https://guides.github.com/features/mastering-markdown/)\n",
    "```\n",
    "\n",
    "a link\n",
    "\n",
    "<a href=\"./sub1.md\">a link 서브1</a>\n"
   ]
  },
  {
   "cell_type": "markdown",
   "id": "d9ea8e5c-df3c-4409-a374-34043633ab3a",
   "metadata": {
    "tags": []
   },
   "source": [
    "## 이미지\n",
    "\n",
    "```\n",
    "![](https://octodex.github.com/images/yaktocat.png)\n",
    "\n",
    "<img src='https://octodex.github.com/images/yaktocat.png' width=200>\n",
    "```\n"
   ]
  },
  {
   "cell_type": "markdown",
   "id": "cdc4988d-96ad-433b-8177-1eadd45c4f70",
   "metadata": {},
   "source": [
    "![](yaktocat.png)"
   ]
  },
  {
   "cell_type": "markdown",
   "id": "395e4868-c819-4ab2-be92-3adbb1eb3363",
   "metadata": {},
   "source": [
    "<img src='https://octodex.github.com/images/yaktocat.png' width=200>"
   ]
  },
  {
   "cell_type": "markdown",
   "id": "4b6dd9dc-69e1-4e76-955f-e258a4523d07",
   "metadata": {},
   "source": [
    "<img src='yaktocat.png' width=100>"
   ]
  },
  {
   "cell_type": "markdown",
   "id": "2f2d021e-0d94-4c5b-9d5b-215327918f58",
   "metadata": {},
   "source": [
    "<img src='./images/yaktocat.png' width=100>"
   ]
  },
  {
   "cell_type": "markdown",
   "id": "b507b852-dcd5-4437-9c10-40378ae9b745",
   "metadata": {},
   "source": [
    "<img src='./images/yaktocat.png' width=100>"
   ]
  },
  {
   "cell_type": "markdown",
   "id": "a94a4b51-49fd-4c92-bbb7-c3590615acd0",
   "metadata": {},
   "source": [
    "<img src='images/yaktocat.png' width=100>"
   ]
  },
  {
   "cell_type": "markdown",
   "id": "1ed46385-0548-460e-807c-f15bc99a6d34",
   "metadata": {},
   "source": [
    "<img src='images/yaktocat.png' width=100>"
   ]
  },
  {
   "cell_type": "markdown",
   "id": "339c79a8-9cb6-4803-bef0-4243466c0381",
   "metadata": {},
   "source": [
    "## raw 이미지 (마크다운 raw 포맷)\n",
    "- 코랩, 깃헙에서는 깨짐"
   ]
  },
  {
   "attachments": {
    "e7571b6e-78a2-4621-8fe7-86eb05e81d0b.png": {
     "image/png": "[encoded data removed]"
    }
   },
   "cell_type": "markdown",
   "id": "2aec6dd6-b7bb-4e8b-aa2b-0e6ecbbeff19",
   "metadata": {},
   "source": [
    "![image.png](attachment:e7571b6e-78a2-4621-8fe7-86eb05e81d0b.png)"
   ]
  },
  {
   "attachments": {
    "e7571b6e-78a2-4621-8fe7-86eb05e81d0b.png": {
     "image/png": "[encoded data removed]"
    }
   },
   "cell_type": "markdown",
   "id": "e78ea074-83ec-49c3-8355-a26405b62203",
   "metadata": {},
   "source": [
    "\n",
    "<img src=attachment:e7571b6e-78a2-4621-8fe7-86eb05e81d0b.png width=100>"
   ]
  },
  {
   "cell_type": "markdown",
   "id": "7929ef10-8f40-4b14-8c6e-39c5609f3684",
   "metadata": {},
   "source": [
    "![image.png](attachment:e7571b6e-78a2-4621-8fe7-86eb05e81d0b.png)"
   ]
  },
  {
   "cell_type": "code",
   "execution_count": null,
   "id": "bee528da-2fd3-421e-89b6-04891dbac379",
   "metadata": {},
   "outputs": [],
   "source": []
  },
  {
   "cell_type": "markdown",
   "id": "bd4aa348-916e-4c18-9bd9-9ee2c74a3456",
   "metadata": {},
   "source": [
    "## 리스트\n",
    "\n",
    "HTML 리스트\n",
    "\n",
    "```\n",
    "<ul>\n",
    " <li>하나\n",
    " <li>둘\n",
    "</ul>\n",
    "\n",
    "<ol>\n",
    " <li>하나\n",
    " <li>둘\n",
    "</ol>\n",
    "```"
   ]
  },
  {
   "cell_type": "markdown",
   "id": "2d8fe927-6980-4099-9386-52cc4ab65760",
   "metadata": {},
   "source": [
    "<ul>\n",
    " <li>하나\n",
    " <li>둘\n",
    "</ul>\n",
    "\n",
    "<ol>\n",
    " <li>하나\n",
    " <li>둘\n",
    "</ol>"
   ]
  },
  {
   "cell_type": "markdown",
   "id": "8d813ea5-d0b7-4dc1-af9f-a54c8a3630f8",
   "metadata": {},
   "source": [
    "마크다운 리스트\n",
    "\n",
    "```\n",
    "- 아이템1\n",
    "- 아이템2\n",
    "    - 아이템22\n",
    "\n",
    "+ 아이템1\n",
    "+ 아이템2\n",
    "    - 아이템3\n",
    "    - 아이템4\n",
    "\n",
    "- 아이템1\n",
    "    - 아이템 중에 **중요**한 것으..\n",
    "```"
   ]
  },
  {
   "cell_type": "markdown",
   "id": "62791316-fd1e-4022-b80c-2813d77c5e93",
   "metadata": {},
   "source": [
    "- 아이템1\n",
    "- 아이템2\n",
    "    - 아이템22"
   ]
  },
  {
   "cell_type": "markdown",
   "id": "401554b9-d965-4684-9a89-3a2dcfea87ae",
   "metadata": {},
   "source": [
    "+ 아이템1\n",
    "+ 아이템2\n",
    "    - 아이템3\n",
    "    - 아이템4"
   ]
  },
  {
   "cell_type": "markdown",
   "id": "68da0559-e3fb-4586-81ee-ce40b122569e",
   "metadata": {},
   "source": [
    "- 아이템1\n",
    "    - 아이템 중에 **중요**한 것으.."
   ]
  },
  {
   "cell_type": "markdown",
   "id": "3285930b-89cd-45f4-8300-ec278a7c3725",
   "metadata": {},
   "source": [
    "마크다운 순서있는 리스트\n",
    "\n",
    "```\n",
    "1. 하나\n",
    "2. 둘\n",
    "3. 셋\n",
    "\n",
    "문장을 써주시거나.\n",
    "\n",
    "1. 하나\n",
    "1. 둘\n",
    "1. 셋\n",
    "    1. 들여쓰기\n",
    "    1. 들여쓰기\n",
    "    1. 들여쓰기\n",
    "        - 순서없는\n",
    "        - 순서없는\n",
    "        \n",
    "```\n"
   ]
  },
  {
   "cell_type": "markdown",
   "id": "f8639eee-94ef-480e-8e2f-ba7b47b590cb",
   "metadata": {},
   "source": [
    "1. 하나\n",
    "1. 둘\n",
    "1. 셋\n",
    "    1. 들여쓰기\n",
    "    1. 들여쓰기\n",
    "    1. 들여쓰기\n",
    "        - 순서없는\n",
    "        - 순서없는"
   ]
  },
  {
   "cell_type": "markdown",
   "id": "53d30e69-3544-4271-a395-244b084a4060",
   "metadata": {},
   "source": [
    "## Foot notes\n",
    "\n",
    "```\n",
    "Here is a simple footnote[^1].\n",
    "\n",
    "A footnote can also have multiple lines[^2].  \n",
    "\n",
    "You can also use words, to fit your writing style more closely[^note].\n",
    "\n",
    "[^1]: My reference.\n",
    "[^2]: Every new line should be prefixed with 2 spaces.  \n",
    "  This allows you to have a footnote with multiple lines.\n",
    "[^note]:\n",
    "    Named footnotes will still render with numbers instead of the text but allow easier identification and linking.  \n",
    "    This footnote als\n",
    "```"
   ]
  },
  {
   "cell_type": "markdown",
   "id": "08cd09ff-c7b6-448e-aab6-f63bc0e904ca",
   "metadata": {},
   "source": [
    "Here is a simple footnote[^1].\n",
    "\n",
    "A footnote can also have multiple lines[^2].  \n",
    "\n",
    "---\n",
    "\n",
    "You can also use words, to fit your writing style more closely[^note].\n",
    "\n",
    "[^1]: My reference.\n",
    "[^2]: Every new line should be prefixed with 2 spaces.  \n",
    "  This allows you to have a footnote with multiple lines.\n",
    "[^note]:\n",
    "    Named footnotes will still render with numbers instead of the text but allow easier identification and linking.  \n",
    "    This footnote als"
   ]
  },
  {
   "cell_type": "code",
   "execution_count": null,
   "id": "ce582051-9e79-41c3-ae4c-be0d79951794",
   "metadata": {},
   "outputs": [],
   "source": []
  },
  {
   "cell_type": "markdown",
   "id": "8688c1fc-7197-4d61-a2cf-a512b38610c3",
   "metadata": {},
   "source": [
    "## Task lists\n",
    "\n",
    "```\n",
    "- [x] @mentions, #refs, [links](), **formatting**, and <del>tags</del> supported\n",
    "- [x] list syntax required (any unordered or ordered list supported)\n",
    "- [x] this is a complete item\n",
    "- [ ] this is an incomplete item\n",
    "\n",
    "```"
   ]
  },
  {
   "cell_type": "markdown",
   "id": "03766371-6205-4df6-ba59-34868ec96d3c",
   "metadata": {},
   "source": [
    "- [x] @mentions, #refs, [links](), **formatting**, and <del>tags</del> supported\n",
    "- [x] list syntax required (any unordered or ordered list supported)\n",
    "- [x] this is a complete item\n",
    "- [ ] this is an incomplete item"
   ]
  },
  {
   "cell_type": "markdown",
   "id": "715a7226-a6ae-42ba-90e0-478f2daa8a22",
   "metadata": {
    "slideshow": {
     "slide_type": "slide"
    }
   },
   "source": [
    "## LaTex\n",
    "\n",
    "* Mathjax를 포함하고 있다. LaTeX를 그대로 사용\n",
    "* [위키백과:TeX 문법](https://ko.wikipedia.org/wiki/%EC%9C%84%ED%82%A4%EB%B0%B1%EA%B3%BC:TeX_%EB%AC%B8%EB%B2%95)\n",
    "* 온라인 라텍스 편집기:  https://www.codecogs.com/latex/eqneditor.php\n",
    "\n",
    "\n",
    "```\n",
    "$$c = \\sqrt{a^2 + b^2}$$\n",
    "```\n",
    "\n",
    "$$c = \\sqrt{a^2 + b^2}$$\n",
    "\n",
    "```\n",
    "$$N(\\mu ,\\sigma )$$\n",
    "```\n",
    "\n",
    "$$N(\\mu ,\\sigma )$$"
   ]
  },
  {
   "cell_type": "markdown",
   "id": "ebbf1c32-6ff5-4ad6-bbcd-8f79014bc953",
   "metadata": {},
   "source": [
    "줄 안에 $$c = \\sqrt{a^2 + b^2}$$ 라텍스 표현을 하려면..."
   ]
  },
  {
   "cell_type": "markdown",
   "id": "c2beb141-292c-4f42-97ba-5561cfe81c28",
   "metadata": {},
   "source": [
    "줄 안에 $$c = \\sqrt{a^2 + b^2}$$ 라텍스 표현을 하려면..."
   ]
  },
  {
   "cell_type": "markdown",
   "id": "1d26aa13-d532-4773-816e-7cba0790106f",
   "metadata": {},
   "source": [
    "줄 안에 $c = \\sqrt{a^2 + b^2}$ 라텍스 표현을 하려면..."
   ]
  },
  {
   "cell_type": "markdown",
   "id": "2ba5579f-1b14-4194-b934-f9a6203aafa9",
   "metadata": {},
   "source": [
    "줄 안에 $c = \\sqrt{a^2 + b^2}$ 라텍스 표현을 하려면..."
   ]
  },
  {
   "cell_type": "markdown",
   "id": "73efb9c8-bb8e-4ae9-94cd-bbf695d09220",
   "metadata": {},
   "source": [
    "$$\n",
    "c = \\sqrt{a^2 + b^2}\n",
    "$$"
   ]
  },
  {
   "cell_type": "markdown",
   "id": "a49ac2cf-b68a-403f-89e6-4f36ecfb3dee",
   "metadata": {},
   "source": [
    "$$\n",
    "c = \\sqrt{a^2 + b^2}\n",
    "$$"
   ]
  },
  {
   "cell_type": "markdown",
   "id": "8fe7d3fd-0825-4520-8bfd-6864bda3a00c",
   "metadata": {},
   "source": [
    "$$\n",
    "c = \\sqrt{a^2 + b^2}\n",
    "N(\\mu ,\\sigma )\n",
    "$$"
   ]
  },
  {
   "cell_type": "markdown",
   "id": "052d747f-50d4-427b-bb31-8afcd9f21266",
   "metadata": {},
   "source": [
    "$$\n",
    "c = \\sqrt{a^2 + b^2}\n",
    "N(\\mu ,\\sigma )\n",
    "$$"
   ]
  },
  {
   "cell_type": "markdown",
   "id": "efda436c-a7f0-447a-913d-009c0377d369",
   "metadata": {},
   "source": [
    "$$\n",
    "c = \\sqrt{a^2 + b^2}\\\\\n",
    "N(\\mu ,\\sigma )\n",
    "$$"
   ]
  },
  {
   "cell_type": "markdown",
   "id": "db594bfb-dd65-453b-8736-7e6b604018ec",
   "metadata": {},
   "source": [
    "$$\n",
    "c = \\sqrt{a^2 + b^2}\\\\\n",
    "N(\\mu ,\\sigma )\n",
    "$$"
   ]
  },
  {
   "cell_type": "markdown",
   "id": "07a5c3dd-be01-44b4-8ced-53f2f5f15552",
   "metadata": {},
   "source": [
    "$$c = \\sqrt{a^2 + b^2}\\\\\n",
    "=2*a+2*b\\\\\n",
    "=(2+a)^2$$"
   ]
  },
  {
   "cell_type": "markdown",
   "id": "f9dd7cfa-3df5-47a8-be93-38f47f07a69d",
   "metadata": {},
   "source": [
    "$$c = \\sqrt{a^2 + b^2}\\\\\n",
    "=2*a+2*b\\\\\n",
    "=(2+a)^2$$"
   ]
  },
  {
   "cell_type": "markdown",
   "id": "fd1df9ab-b756-4467-8ebf-53bdf90d1310",
   "metadata": {},
   "source": [
    "$$\\begin{aligned}\n",
    "c &= \\sqrt{a^2 + b^2}\\\\\n",
    "&=2*a+2*b\\\\\n",
    "&=(2+a)^2\n",
    "\\end{aligned}$$"
   ]
  },
  {
   "cell_type": "markdown",
   "id": "7b9027c2-e63a-45db-bc27-08b506537043",
   "metadata": {},
   "source": [
    "$$\\begin{aligned}\n",
    "c &= \\sqrt{a^2 + b^2}\\\\\n",
    "&=2*a+2*b\\\\\n",
    "&=(2+a)^2\n",
    "\\end{aligned}$$"
   ]
  },
  {
   "cell_type": "markdown",
   "id": "09256e97-6fac-4629-9bb3-f6fb2890534e",
   "metadata": {},
   "source": [
    "제곱 표현"
   ]
  },
  {
   "cell_type": "markdown",
   "id": "17451fb6-6ea5-4474-a76c-2d4b98ce4380",
   "metadata": {},
   "source": [
    "### 시그마"
   ]
  },
  {
   "cell_type": "markdown",
   "id": "06cf49b1-b48c-4e18-9ff6-bd336cf2524f",
   "metadata": {},
   "source": [
    "$$\n",
    "\\sum_{a=0}^{n} a^{2}\n",
    "$$"
   ]
  },
  {
   "cell_type": "markdown",
   "id": "520ce163-078f-407c-873b-152314331631",
   "metadata": {},
   "source": [
    "$$\n",
    "\\sum_{a=0}^{n} a^{2}\n",
    "$$"
   ]
  },
  {
   "cell_type": "markdown",
   "id": "2d6cac71-aea1-4c02-a483-f84e4ba52041",
   "metadata": {},
   "source": [
    "### 곱"
   ]
  },
  {
   "cell_type": "markdown",
   "id": "aef50b7b-ee19-4de5-89b9-17cbb49a1da0",
   "metadata": {},
   "source": [
    "$$\n",
    "\\prod_{i=1}^N x_i\n",
    "$$"
   ]
  },
  {
   "cell_type": "markdown",
   "id": "f525338f-279b-4f89-8cf6-2baa6d65818a",
   "metadata": {},
   "source": [
    "$$\n",
    "\\prod_{i=1}^N x_i\n",
    "$$"
   ]
  },
  {
   "cell_type": "markdown",
   "id": "fc2b1136-0ab3-4375-a73c-9534063f096e",
   "metadata": {},
   "source": [
    "### 적분"
   ]
  },
  {
   "cell_type": "markdown",
   "id": "d080c6a1-a92e-41b8-9c7e-cc6beb252a1d",
   "metadata": {},
   "source": [
    "$$\n",
    "\\int_{-N}^{N} e^x\\, dx\n",
    "$$"
   ]
  },
  {
   "cell_type": "markdown",
   "id": "25d01028-50ca-431d-9dcf-214d0864f54a",
   "metadata": {},
   "source": [
    "$$\n",
    "\\int_{-N}^{N} e^x\\, dx\n",
    "$$"
   ]
  },
  {
   "cell_type": "markdown",
   "id": "1da4ad33-c9a1-40b8-b2e4-5ee67b758c8d",
   "metadata": {},
   "source": [
    "$$\n",
    "\\text{문장을 넣을 수 있어요.}\\int_{-N}^{N} e^x\\, dx\n",
    "$$"
   ]
  },
  {
   "cell_type": "markdown",
   "id": "263f272d-c2c6-475f-8671-0fc2812adedd",
   "metadata": {},
   "source": [
    "$$\n",
    "\\text{문장을 넣을 수 있어요.}\n",
    "\\quad\n",
    "\\int_{-N}^{N} e^x\\, dx\n",
    "$$"
   ]
  },
  {
   "cell_type": "markdown",
   "id": "13be2475-78a2-4ef3-ba98-40ee8c523cb8",
   "metadata": {},
   "source": [
    "$$\n",
    "\\text{문장을 넣을 수 있어요.}\n",
    "\\quad\n",
    "\\quad\n",
    "\\int_{-N}^{N} e^x\\, dx\n",
    "$$"
   ]
  }
 ],
 "metadata": {
  "kernelspec": {
   "display_name": "Python 3 (ipykernel)",
   "language": "python",
   "name": "python3"
  },
  "language_info": {
   "codemirror_mode": {
    "name": "ipython",
    "version": 3
   },
   "file_extension": ".py",
   "mimetype": "text/x-python",
   "name": "python",
   "nbconvert_exporter": "python",
   "pygments_lexer": "ipython3",
   "version": "3.10.9"
  }
 },
 "nbformat": 4,
 "nbformat_minor": 5
}
